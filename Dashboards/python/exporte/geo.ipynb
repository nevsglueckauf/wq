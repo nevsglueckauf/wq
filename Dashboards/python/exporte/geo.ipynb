{
 "cells": [
  {
   "cell_type": "code",
   "execution_count": 3,
   "id": "e0c99746",
   "metadata": {},
   "outputs": [],
   "source": [
    "sess_not_de_locz = ['London', 'Kyiv', 'Montreal', 'Dublin', 'Varna', 'Amsterdam',\n",
    "       'Helsinki', 'Gwanak-gu', 'Vila Nova de Famalicão', 'Sisak',\n",
    "       'Purmerend', 'Charlottenlund', 'Beroun', 'Doetinchem', 'Singapore',\n",
    "       'Prague', 'Narón', 'Clonee', 'Manchester', 'Drunen', 'Bengaluru',\n",
    "       'České Budějovice', 'Tokyo', 'Biên Hòa', 'Stockholm', 'Glasgow',\n",
    "       \"Santa Vittoria d'Alba\", 'Pijnacker', 'Hendrik-Ido-Ambacht',\n",
    "       'Casal Comba', 'Kabul', 'Luleå', 'Lisbon', 'Vienna', 'Santiago',\n",
    "       'Spijkenisse', 'Eindhoven', 'Sofia', 'Alphen aan den Rijn',\n",
    "       'Salzburg', 'Nassau', 'Graz', 'Konya', 'Beauharnois',\n",
    "       'Santa Coloma de Farners', 'Bupyeong-gu', 'Corbeil-Essonnes',\n",
    "       'San José', 'Mons', 'Rotterdam', 'Lucknow', 'Istanbul', 'Rosenau',\n",
    "       'Ehrendingen', 'Veldhoven', 'Žatec', 'Ghent', 'Maastricht',\n",
    "       'Hong Kong', 'Arnhem', 'St Petersburg', 'Praia', 'Aarau',\n",
    "       'Uitikon', 'Český Brod', 'Antwerp', 'Lviv', 'Bandhagen', 'Rząśnik',\n",
    "       'Zurich', 'Kaohsiung', 'Taipei', 'Innsbruck', 'West Bromwich',\n",
    "       'Mumbai', 'Tallinn', 'Cape Town', 'Kapfenberg', 'Lunteren',\n",
    "       'Nordelta', 'Szczecin', 'Rhoon', 'Kigali', 'Malmo', 'Ibadan',\n",
    "       'Enschede', 'Nijmegen', 'Warsaw', 'Norrköping', 'Guimarães',\n",
    "       'Vught', 'Dubai', 'Verbier', 'Basel', 'Dyatkovo', 'Jesenice',\n",
    "       'Ocotlán', 'Rome', 'Moscow', 'Nowa Dęba', 'Itabaianinha',\n",
    "       'Zundert', 'Maribor', 'Montrose', 'Joinville', 'Cairo', 'Nitra',\n",
    "       'Brussels', 'Oberschützen', 'Spreitenbach', 'Yekaterinburg',\n",
    "       'Dunajská Streda', 'Male', 'Venice', 'Wyszków', 'Elixhausen',\n",
    "       'Long An', 'Pago Pago', 'Zagreb', 'Geneva',\n",
    "       'Ferraz de Vasconcelos', 'Dordrecht', 'Waldkirch', 'Sharjah',\n",
    "       'Linköping', 'Ecatepec', 'Baku', 'Minsk', 'Herzliya',\n",
    "       'Heerhugowaard', 'Budapest', 'Athens', 'Nabeul', 'Southwark',\n",
    "       'Ness Ziona', 'Čitluk', 'Aryanah', 'Bülach', 'Tel Aviv',\n",
    "       'Rorschach', 'Mirandela', 'Panningen', 'Copenhagen',\n",
    "       'Ho Chi Minh City', 'Larnaca', 'Leicester', 'Reykjavik', 'Skopje',\n",
    "       'Dnipro', 'Poznan', 'Naaldwijk', 'Bangkok', 'Vilnius', 'Schiedam',\n",
    "       'Southampton', 'Rousse', 'Pardubice', 'Riga', 'Wicklow',\n",
    "       'Loughton', 'Santo Domingo', 'Sydney', 'Wervershoof', 'Del Viso',\n",
    "       'Dalseo-gu', 'Cambridge', 'Ilford', 'Bucharest', 'Bratislava',\n",
    "       'Helmond', 'Varde', 'Belo Horizonte', 'Solec Kujawski', 'Payerne',\n",
    "       'Nicosia', 'Tower Hamlets', 'Rødovre Municipality', 'Breda',\n",
    "       'Banská Bystrica', 'Brønderslev', 'Amel', 'Karlstad',\n",
    "       'Lavilledieu', 'Yangsan', 'Örebro', 'Frauenfeld', 'Luton',\n",
    "       'Götzis', 'Utrecht', 'Plovdiv', 'Brønshøj', 'Salem', 'Limassol',\n",
    "       'Kinuta', 'City of Westminster', 'Québec', 'Vojens', 'Yambol',\n",
    "       'Bialystok', 'Valladolid', 'Lyon', 'Batumi', 'Porto', 'Esbjerg',\n",
    "       'Luxembourg', 'Bernex', 'Madrid', 'Gangnam-gu', 'Jenbach',\n",
    "       'Dieren', 'Ganei Tikva', 'Jarocin', 'Holstebro', 'Krakow', 'Rønne',\n",
    "       'Oudenaarde', 'Gothenburg', 'Tiefgraben', 'Cardiff', 'Pohořelice',\n",
    "       'Katowice', 'Alness', 'Cesena', 'Grasse', 'Vári', 'The Hague',\n",
    "       'Remetschwil', 'Chiajna', 'Männedorf', 'Adliswil', 'Modena',\n",
    "       'Bologna', 'Rijeka', 'Birsfelden', 'Florence', \"'s-Hertogenbosch\",\n",
    "       'Giza', 'Shanghai', 'Milton Keynes', 'Glurns', 'Eunpyeong-gu',\n",
    "       'Surat']"
   ]
  },
  {
   "cell_type": "code",
   "execution_count": 1,
   "id": "b8ce3f7f",
   "metadata": {},
   "outputs": [
    {
     "data": {
      "application/vnd.plotly.v1+json": {
       "config": {
        "plotlyServerURL": "https://plot.ly"
       },
       "data": [
        {
         "lat": {
          "bdata": "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",
          "dtype": "f8"
         },
         "lon": {
          "bdata": "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",
          "dtype": "f8"
         },
         "marker": {
          "color": {
           "bdata": "KWKlVbZQikPVNacz8C4VLigp+iiqJt4j5iFLIR0fCh51HeAcQxt7GlkYPBicFzkXExf7FU8TjRIIElARDxHsEOcP2Q+EDzgP8A5GDiAOSw06DWwM8gvWC8cLvQviClgIOAg4CPwH0wfCB9gGtAZWBlQG3gXCBZ8FOQUvBR4FEwXqBMgEtgSvBIoETwRHBBwEEAQLBO4DvAO5A7UDpAOeA3ADSAMyAyADEQMAA+sCxwLEAr4CrgKuAqMCmAKSApACjQJzAmMCYAJGAjwCMgIpAhwCGgIRAgwCBgIEAt8B2AHMAcMBwAG9AaoBngGaAZoBmQGYAZQBlAGMAYkBfgF9AXsBWwFaAVIBTQFIAUQBRAE/AToBNgEyAS0BKAEnASABHQEYAQ4BDgEIAQgBAgH4APgA9gD1AOEA2ADYANYA1ADSANAA0ADJAMcAqACoAKgAqACoAKgAnwCeAJ4AnACSAJAAjAB/AHIAcABwAHAAcABwAHAAcABwAHAAbgBsAGwAaABoAGgAaABmAGAAXQBbAFoASgBIADwAOgA4ADgAOAA4ADgAOAA4ADgANAAyADIAMAAwACUAIAAXAA==",
           "dtype": "i2"
          }
         },
         "mode": "markers",
         "text": [
          "Chicago O'Hare InternationalChicago, ILArrivals: 25129",
          "William B Hartsfield-Atlanta IntlAtlanta, GAArrivals: 21925",
          "Dallas-Fort Worth InternationalDallas-Fort Worth, TXArrivals: 20662",
          "Phoenix Sky Harbor InternationalPhoenix, AZArrivals: 17290",
          "Denver IntlDenver, COArrivals: 13781",
          "George Bush IntercontinentalHouston, TXArrivals: 13223",
          "San Francisco InternationalSan Francisco, CAArrivals: 12016",
          "Los Angeles InternationalLos Angeles, CAArrivals: 11797",
          "Orlando InternationalOrlando, FLArrivals: 10536",
          "Charlotte/Douglas InternationalCharlotte, NCArrivals: 10490",
          "Salt Lake City IntlSalt Lake City, UTArrivals: 9898",
          "Tampa International Tampa, FLArrivals: 9182",
          "Newark IntlNewark, NJArrivals: 8678",
          "McCarran InternationalLas Vegas, NVArrivals: 8523",
          "Philadelphia IntlPhiladelphia, PAArrivals: 7965",
          "Minneapolis-St Paul IntlMinneapolis, MNArrivals: 7690",
          "Seattle-Tacoma IntlSeattle, WAArrivals: 7541",
          "LaGuardiaNew York, NYArrivals: 7392",
          "Chicago MidwayChicago, ILArrivals: 6979",
          "Washington Dulles InternationalChantilly, VAArrivals: 6779",
          "San Diego International-Lindbergh San Diego, CAArrivals: 6233",
          "Lambert-St Louis InternationalSt Louis, MOArrivals: 6204",
          "Detroit Metropolitan-Wayne CountyDetroit, MIArrivals: 6044",
          "John F Kennedy IntlNew York, NYArrivals: 5945",
          "Miami InternationalMiami, FLArrivals: 5907",
          "Gen Edw L Logan IntlBoston, MAArrivals: 5627",
          "Sacramento InternationalSacramento, CAArrivals: 4943",
          "Baltimore-Washington InternationalBaltimore, MDArrivals: 4749",
          "John Wayne /Orange CoSanta Ana, CAArrivals: 4616",
          "New Orleans International New Orleans, LAArrivals: 4432",
          "San Jose InternationalSan Jose, CAArrivals: 4367",
          "Ronald Reagan Washington NationalArlington, VAArrivals: 4332",
          "Portland IntlPortland, ORArrivals: 4071",
          "Southwest Florida InternationalFt. Myers, FLArrivals: 4057",
          "Palm Beach InternationalWest Palm Beach, FLArrivals: 3972",
          "Raleigh-Durham InternationalRaleigh, NCArrivals: 3896",
          "William P HobbyHouston, TXArrivals: 3824",
          "San Antonio InternationalSan Antonio, TXArrivals: 3654",
          "Fort Lauderdale-Hollywood Int'lFt. Lauderdale, FLArrivals: 3616",
          "Kansas City InternationalKansas City, MOArrivals: 3403",
          "Metropolitan Oakland InternationalOakland, CAArrivals: 3386",
          "Pittsburgh InternationalPittsburgh, PAArrivals: 3180",
          "Memphis InternationalMemphis, TNArrivals: 3058",
          "General Mitchell InternationalMilwaukee, WIArrivals: 3030",
          "Cleveland-Hopkins IntlCleveland, OHArrivals: 3015",
          "Jacksonville InternationalJacksonville, FLArrivals: 3005",
          "Tucson InternationalTucson, AZArrivals: 2786",
          "Indianapolis InternationalIndianapolis, INArrivals: 2136",
          "Reno/Tahoe InternationalReno, NVArrivals: 2104",
          "Will Rogers WorldOklahoma City, OKArrivals: 2104",
          "Theodore F Green StateProvidence, RIArrivals: 2044",
          "Tulsa InternationalTulsa, OKArrivals: 2003",
          "Cincinnati Northern Kentucky IntlCovington, KYArrivals: 1986",
          "Port Columbus IntlColumbus, OHArrivals: 1752",
          "Louisville International-Standiford Louisville, KYArrivals: 1716",
          "Ontario InternationalOntario, CAArrivals: 1622",
          "Adams Little Rock, ARArrivals: 1620",
          "Dallas Love Dallas, TXArrivals: 1502",
          "Eppley AirfieldOmaha, NEArrivals: 1474",
          "Norfolk InternationalNorfolk, VAArrivals: 1439",
          "James M Cox Dayton IntlDayton, OHArrivals: 1337",
          "Greater Rochester Int'lRochester, NYArrivals: 1327",
          "Northwest Arkansas RegionalFayetteville/Springdale/Rogers, ARArrivals: 1310",
          "Nashville InternationalNashville, TNArrivals: 1299",
          "Albuquerque InternationalAlbuquerque, NMArrivals: 1258",
          "Jackson InternationalJackson, MSArrivals: 1224",
          "El Paso InternationalEl Paso, TXArrivals: 1206",
          "Richmond InternationalRichmond, VAArrivals: 1199",
          "Bradley InternationalWindsor Locks, CTArrivals: 1162",
          "Midland InternationalMidland, TXArrivals: 1103",
          "Baton Rouge Metropolitan, Ryan Baton Rouge, LAArrivals: 1095",
          "McGhee-TysonKnoxville, TNArrivals: 1052",
          "City of Colorado Springs MuniColorado Springs, COArrivals: 1040",
          "Pensacola RegionalPensacola, FLArrivals: 1035",
          "Syracuse-Hancock IntlSyracuse, NYArrivals: 1006",
          "Birmingham InternationalBirmingham, ALArrivals: 956",
          "ManchesterManchester, NHArrivals: 953",
          "Palm Springs InternationalPalm Springs, CAArrivals: 949",
          "Sarasota Bradenton InternationalSarasota, FLArrivals: 932",
          "Corpus Christi InternationalCorpus Christi, TXArrivals: 926",
          "Huntsville International Huntsville, ALArrivals: 880",
          "Columbia MetropolitanColumbia, SCArrivals: 840",
          "Lafayette RegionalLafayette, LAArrivals: 818",
          "Santa Barbara MunicipalSanta Barbara, CAArrivals: 800",
          "Spokane IntlSpokane, WAArrivals: 785",
          "Mobile RegionalMobile, ALArrivals: 768",
          "Wichita Mid-ContinentWichita, KSArrivals: 747",
          "Buffalo Niagara IntlBuffalo, NYArrivals: 711",
          "Des Moines InternationalDes Moines, IAArrivals: 708",
          "Harrisburg IntlHarrisburg, PAArrivals: 702",
          "Portland International JetportPortland, MEArrivals: 686",
          "Montgomery Regional AptMontgomery, ALArrivals: 686",
          "Newport News/Williamsburg InternationalNewport News, VAArrivals: 675",
          "Westchester CtyWhite Plains, NYArrivals: 664",
          "Monterey PeninsulaMonterey, CAArrivals: 658",
          "Kent County InternationalGrand Rapids, MIArrivals: 656",
          "Florida BeachBeaches, FLArrivals: 653",
          "Yuma MCAS-Yuma InternationalYuma, AZArrivals: 627",
          "Aspen-Pitkin Co/Sardy Aspen, COArrivals: 611",
          "Tallahassee RegionalTallahassee, FLArrivals: 608",
          "Gulfport-Biloxi RegionalGulfport-Biloxi, MSArrivals: 582",
          "Rapid City RegionalRapid City, SDArrivals: 572",
          "Long Beach (Daugherty )Long Beach, CAArrivals: 562",
          "Wilmington InternationalWilmington, NCArrivals: 553",
          "Blue Grass Lexington, KYArrivals: 540",
          "Dane County RegionalMadison, WIArrivals: 538",
          "Mahlon Sweet Eugene, ORArrivals: 529",
          "Savannah InternationalSavannah, GAArrivals: 524",
          "Lubbock InternationalLubbock, TXArrivals: 518",
          "Eastern Iowa Cedar Rapids, IAArrivals: 516",
          "Greenville-SpartanburgGreer, SCArrivals: 479",
          "Piedmont Triad InternationalGreensboro, NCArrivals: 472",
          "Long Island - MacArthurIslip, NYArrivals: 460",
          "Quad CityMoline, ILArrivals: 451",
          "Asheville RegionalAsheville, NCArrivals: 448",
          "Akron-Canton RegionalAkron, OHArrivals: 445",
          "Central Illinois RegionalBloomington, ILArrivals: 426",
          "Valley InternationalHarlingen, TXArrivals: 414",
          "Eglin Air Force BaseValparaiso, FLArrivals: 410",
          "Shreveport RegionalShreveport, LAArrivals: 410",
          "Hector InternationalFargo, NDArrivals: 409",
          "Yampa ValleyHayden, COArrivals: 408",
          "Rogue Valley InternationalMedford, ORArrivals: 404",
          "Greater Peoria RegionalPeoria, ILArrivals: 404",
          "Laredo InternationalLaredo, TXArrivals: 396",
          "Austin-Bergstrom InternationalAustin, TXArrivals: 393",
          "Abilene RegionalAbilene, TXArrivals: 382",
          "Springfield-Branson RegionalSpringfield, MOArrivals: 381",
          "BishopFlint, MIArrivals: 379",
          "Tri-Cities RegionalBristol, TNArrivals: 347",
          "Robert Gray AAFKilleen, TXArrivals: 346",
          "Charleston AFB/InternationalCharleston, SCArrivals: 338",
          "Austin Straubel InternationalGreen Bay, WIArrivals: 333",
          "Roberts Redmond, ORArrivals: 328",
          "Columbus MetropolitanColumbus, GAArrivals: 324",
          "South Bend RegionalSouth Bend, INArrivals: 324",
          "Boise Air TerminalBoise, IDArrivals: 319",
          "Myrtle Beach InternationalMyrtle Beach, SCArrivals: 314",
          "Minot InternationalMinot, NDArrivals: 310",
          "University of Illinois-WillardChampaign/Urbana, ILArrivals: 306",
          "Roanoke Regional/ Woodrum Roanoke, VAArrivals: 301",
          "Eagle County RegionalEagle, COArrivals: 296",
          "Jackson HoleJackson, WYArrivals: 295",
          "Gallatin Bozeman, MTArrivals: 288",
          "Walker Grand Junction, COArrivals: 285",
          "Burbank-Glendale-PasadenaBurbank, CAArrivals: 280",
          "Evansville RegionalEvansville, INArrivals: 270",
          "Gunnison CountyGunnison, COArrivals: 270",
          "Idaho Falls RegionalIdaho Falls, IDArrivals: 264",
          "Fresno Yosemite InternationalFresno, CAArrivals: 264",
          "CapitalSpringfield, ILArrivals: 258",
          "McAllen Miller InternationalMcAllen, TXArrivals: 248",
          "Redding MunicipalRedding, CAArrivals: 248",
          "Grand Forks InternationalGrand Forks, NDArrivals: 246",
          "Joe Foss Sioux Falls, SDArrivals: 245",
          "Joslin Field - Magic ValleyTwin Falls, IDArrivals: 225",
          "Santa Maria Pub/Capt G Allan Hancock Santa Maria, CAArrivals: 216",
          "Pocatello RegionalPocatello, IDArrivals: 216",
          "Dothan Dothan, ALArrivals: 214",
          "Albert J EllisJacksonville, NCArrivals: 212",
          "Montrose RegionalMontrose, COArrivals: 210",
          "Bismarck MunicipalBismarck, NDArrivals: 208",
          "Natrona County IntlCasper, WYArrivals: 208",
          "Cherry CapitalTraverse City, MIArrivals: 201",
          "Monroe RegionalMonroe, LAArrivals: 199",
          "Tri-CitiesPasco, WAArrivals: 168",
          "Manhattan RegionalManhattan, KSArrivals: 168",
          "Alexandria InternationalAlexandria, LAArrivals: 168",
          "North Bend MuniNorth Bend, ORArrivals: 168",
          "Santa Fe MunicipalSanta Fe, NMArrivals: 168",
          "Klamath Falls InternationalKlamath Falls, ORArrivals: 168",
          "StewartNewburgh, NYArrivals: 159",
          "Charlottesville-AlbermarleCharlottesville, VAArrivals: 158",
          "Valdosta RegionalValdosta, GAArrivals: 158",
          "Central WisconsinMosinee, WIArrivals: 156",
          "InyokernInyokern, CAArrivals: 146",
          "ArcataArcata/Eureka, CAArrivals: 144",
          "Glynco JetportBrunswick, GAArrivals: 140",
          "Lincoln MunicipalLincoln, NEArrivals: 127",
          "Fort Wayne InternationalFort Wayne, INArrivals: 114",
          "Yellowstone RegionalCody, WYArrivals: 112",
          "Barkley RegionalPaducah, KYArrivals: 112",
          "San Luis Obispo Co-McChesney San Luis Obispo, CAArrivals: 112",
          "Wilkes-Barre/Scranton IntlWilkes-Barre/Scranton, PAArrivals: 112",
          "Golden Triangle RegionalColumbus-Starkville-West Point, MSArrivals: 112",
          "Gillette-Campbell CountyGillette, WYArrivals: 112",
          "Craven County RegionalNew Bern, NCArrivals: 112",
          "Bush Augusta, GAArrivals: 112",
          "Fort Smith RegionalFort Smith, ARArrivals: 112",
          "Tyler Pounds Tyler, TXArrivals: 110",
          "Helena RegionalHelena, MTArrivals: 108",
          "Great Falls IntlGreat Falls, MTArrivals: 108",
          "Key Meridian, MSArrivals: 104",
          null,
          "Telluride RegionalTelluride, COArrivals: 104",
          "Lovell Chattanooga, TNArrivals: 104",
          "Lewiston-Nez Perce CountyLewiston, IDArrivals: 102",
          "Cedar City MuniCedar City, UTArrivals: 96",
          "Albany CtyAlbany, NYArrivals: 93",
          "Burlington InternationalBurlington, VTArrivals: 91",
          "Glacier Park IntlKalispell, MTArrivals: 90",
          "Melbourne International Melbourne, FLArrivals: 74",
          "Daytona Beach InternationalDaytona Beach, FLArrivals: 72",
          "Lehigh Valley InternationalAllentown, PAArrivals: 60",
          "Duluth InternationalDuluth, MNArrivals: 58",
          "CheyenneCheyenne, WYArrivals: 56",
          "Rock Springs-Sweetwater CountyRock Springs, WYArrivals: 56",
          "Greenbrier ValleyLewisburg, WVArrivals: 56",
          "YeagerCharleston, WVArrivals: 56",
          "Bellingham IntlBellingham, WAArrivals: 56",
          "Mammoth YosemiteMammoth Lakes, CAArrivals: 56",
          "Outagamie County RegionalAppleton, WIArrivals: 56",
          "Branson AirportHollister, MOArrivals: 56",
          "St. Petersburg-Clearwater InternationalSt. Petersburg, FLArrivals: 52",
          "Sheppard AFB/Wichita Falls MunicipalWichita Falls, TXArrivals: 50",
          "Fayetteville MunicipalFayetteville, NCArrivals: 50",
          "Chippewa Valley RegionalEau Claire, WIArrivals: 48",
          "Dubuque MunicipalDubuque, IAArrivals: 48",
          "Rochester InternationalRochester, MNArrivals: 37",
          "Tunica Municipal AirportTunica, MSArrivals: 32",
          "Billings Logan IntlBillings, MTArrivals: 23"
         ],
         "type": "scattergeo"
        }
       ],
       "layout": {
        "geo": {
         "scope": "usa"
        },
        "template": {
         "data": {
          "bar": [
           {
            "error_x": {
             "color": "#2a3f5f"
            },
            "error_y": {
             "color": "#2a3f5f"
            },
            "marker": {
             "line": {
              "color": "#E5ECF6",
              "width": 0.5
             },
             "pattern": {
              "fillmode": "overlay",
              "size": 10,
              "solidity": 0.2
             }
            },
            "type": "bar"
           }
          ],
          "barpolar": [
           {
            "marker": {
             "line": {
              "color": "#E5ECF6",
              "width": 0.5
             },
             "pattern": {
              "fillmode": "overlay",
              "size": 10,
              "solidity": 0.2
             }
            },
            "type": "barpolar"
           }
          ],
          "carpet": [
           {
            "aaxis": {
             "endlinecolor": "#2a3f5f",
             "gridcolor": "white",
             "linecolor": "white",
             "minorgridcolor": "white",
             "startlinecolor": "#2a3f5f"
            },
            "baxis": {
             "endlinecolor": "#2a3f5f",
             "gridcolor": "white",
             "linecolor": "white",
             "minorgridcolor": "white",
             "startlinecolor": "#2a3f5f"
            },
            "type": "carpet"
           }
          ],
          "choropleth": [
           {
            "colorbar": {
             "outlinewidth": 0,
             "ticks": ""
            },
            "type": "choropleth"
           }
          ],
          "contour": [
           {
            "colorbar": {
             "outlinewidth": 0,
             "ticks": ""
            },
            "colorscale": [
             [
              0,
              "#0d0887"
             ],
             [
              0.1111111111111111,
              "#46039f"
             ],
             [
              0.2222222222222222,
              "#7201a8"
             ],
             [
              0.3333333333333333,
              "#9c179e"
             ],
             [
              0.4444444444444444,
              "#bd3786"
             ],
             [
              0.5555555555555556,
              "#d8576b"
             ],
             [
              0.6666666666666666,
              "#ed7953"
             ],
             [
              0.7777777777777778,
              "#fb9f3a"
             ],
             [
              0.8888888888888888,
              "#fdca26"
             ],
             [
              1,
              "#f0f921"
             ]
            ],
            "type": "contour"
           }
          ],
          "contourcarpet": [
           {
            "colorbar": {
             "outlinewidth": 0,
             "ticks": ""
            },
            "type": "contourcarpet"
           }
          ],
          "heatmap": [
           {
            "colorbar": {
             "outlinewidth": 0,
             "ticks": ""
            },
            "colorscale": [
             [
              0,
              "#0d0887"
             ],
             [
              0.1111111111111111,
              "#46039f"
             ],
             [
              0.2222222222222222,
              "#7201a8"
             ],
             [
              0.3333333333333333,
              "#9c179e"
             ],
             [
              0.4444444444444444,
              "#bd3786"
             ],
             [
              0.5555555555555556,
              "#d8576b"
             ],
             [
              0.6666666666666666,
              "#ed7953"
             ],
             [
              0.7777777777777778,
              "#fb9f3a"
             ],
             [
              0.8888888888888888,
              "#fdca26"
             ],
             [
              1,
              "#f0f921"
             ]
            ],
            "type": "heatmap"
           }
          ],
          "histogram": [
           {
            "marker": {
             "pattern": {
              "fillmode": "overlay",
              "size": 10,
              "solidity": 0.2
             }
            },
            "type": "histogram"
           }
          ],
          "histogram2d": [
           {
            "colorbar": {
             "outlinewidth": 0,
             "ticks": ""
            },
            "colorscale": [
             [
              0,
              "#0d0887"
             ],
             [
              0.1111111111111111,
              "#46039f"
             ],
             [
              0.2222222222222222,
              "#7201a8"
             ],
             [
              0.3333333333333333,
              "#9c179e"
             ],
             [
              0.4444444444444444,
              "#bd3786"
             ],
             [
              0.5555555555555556,
              "#d8576b"
             ],
             [
              0.6666666666666666,
              "#ed7953"
             ],
             [
              0.7777777777777778,
              "#fb9f3a"
             ],
             [
              0.8888888888888888,
              "#fdca26"
             ],
             [
              1,
              "#f0f921"
             ]
            ],
            "type": "histogram2d"
           }
          ],
          "histogram2dcontour": [
           {
            "colorbar": {
             "outlinewidth": 0,
             "ticks": ""
            },
            "colorscale": [
             [
              0,
              "#0d0887"
             ],
             [
              0.1111111111111111,
              "#46039f"
             ],
             [
              0.2222222222222222,
              "#7201a8"
             ],
             [
              0.3333333333333333,
              "#9c179e"
             ],
             [
              0.4444444444444444,
              "#bd3786"
             ],
             [
              0.5555555555555556,
              "#d8576b"
             ],
             [
              0.6666666666666666,
              "#ed7953"
             ],
             [
              0.7777777777777778,
              "#fb9f3a"
             ],
             [
              0.8888888888888888,
              "#fdca26"
             ],
             [
              1,
              "#f0f921"
             ]
            ],
            "type": "histogram2dcontour"
           }
          ],
          "mesh3d": [
           {
            "colorbar": {
             "outlinewidth": 0,
             "ticks": ""
            },
            "type": "mesh3d"
           }
          ],
          "parcoords": [
           {
            "line": {
             "colorbar": {
              "outlinewidth": 0,
              "ticks": ""
             }
            },
            "type": "parcoords"
           }
          ],
          "pie": [
           {
            "automargin": true,
            "type": "pie"
           }
          ],
          "scatter": [
           {
            "fillpattern": {
             "fillmode": "overlay",
             "size": 10,
             "solidity": 0.2
            },
            "type": "scatter"
           }
          ],
          "scatter3d": [
           {
            "line": {
             "colorbar": {
              "outlinewidth": 0,
              "ticks": ""
             }
            },
            "marker": {
             "colorbar": {
              "outlinewidth": 0,
              "ticks": ""
             }
            },
            "type": "scatter3d"
           }
          ],
          "scattercarpet": [
           {
            "marker": {
             "colorbar": {
              "outlinewidth": 0,
              "ticks": ""
             }
            },
            "type": "scattercarpet"
           }
          ],
          "scattergeo": [
           {
            "marker": {
             "colorbar": {
              "outlinewidth": 0,
              "ticks": ""
             }
            },
            "type": "scattergeo"
           }
          ],
          "scattergl": [
           {
            "marker": {
             "colorbar": {
              "outlinewidth": 0,
              "ticks": ""
             }
            },
            "type": "scattergl"
           }
          ],
          "scattermap": [
           {
            "marker": {
             "colorbar": {
              "outlinewidth": 0,
              "ticks": ""
             }
            },
            "type": "scattermap"
           }
          ],
          "scattermapbox": [
           {
            "marker": {
             "colorbar": {
              "outlinewidth": 0,
              "ticks": ""
             }
            },
            "type": "scattermapbox"
           }
          ],
          "scatterpolar": [
           {
            "marker": {
             "colorbar": {
              "outlinewidth": 0,
              "ticks": ""
             }
            },
            "type": "scatterpolar"
           }
          ],
          "scatterpolargl": [
           {
            "marker": {
             "colorbar": {
              "outlinewidth": 0,
              "ticks": ""
             }
            },
            "type": "scatterpolargl"
           }
          ],
          "scatterternary": [
           {
            "marker": {
             "colorbar": {
              "outlinewidth": 0,
              "ticks": ""
             }
            },
            "type": "scatterternary"
           }
          ],
          "surface": [
           {
            "colorbar": {
             "outlinewidth": 0,
             "ticks": ""
            },
            "colorscale": [
             [
              0,
              "#0d0887"
             ],
             [
              0.1111111111111111,
              "#46039f"
             ],
             [
              0.2222222222222222,
              "#7201a8"
             ],
             [
              0.3333333333333333,
              "#9c179e"
             ],
             [
              0.4444444444444444,
              "#bd3786"
             ],
             [
              0.5555555555555556,
              "#d8576b"
             ],
             [
              0.6666666666666666,
              "#ed7953"
             ],
             [
              0.7777777777777778,
              "#fb9f3a"
             ],
             [
              0.8888888888888888,
              "#fdca26"
             ],
             [
              1,
              "#f0f921"
             ]
            ],
            "type": "surface"
           }
          ],
          "table": [
           {
            "cells": {
             "fill": {
              "color": "#EBF0F8"
             },
             "line": {
              "color": "white"
             }
            },
            "header": {
             "fill": {
              "color": "#C8D4E3"
             },
             "line": {
              "color": "white"
             }
            },
            "type": "table"
           }
          ]
         },
         "layout": {
          "annotationdefaults": {
           "arrowcolor": "#2a3f5f",
           "arrowhead": 0,
           "arrowwidth": 1
          },
          "autotypenumbers": "strict",
          "coloraxis": {
           "colorbar": {
            "outlinewidth": 0,
            "ticks": ""
           }
          },
          "colorscale": {
           "diverging": [
            [
             0,
             "#8e0152"
            ],
            [
             0.1,
             "#c51b7d"
            ],
            [
             0.2,
             "#de77ae"
            ],
            [
             0.3,
             "#f1b6da"
            ],
            [
             0.4,
             "#fde0ef"
            ],
            [
             0.5,
             "#f7f7f7"
            ],
            [
             0.6,
             "#e6f5d0"
            ],
            [
             0.7,
             "#b8e186"
            ],
            [
             0.8,
             "#7fbc41"
            ],
            [
             0.9,
             "#4d9221"
            ],
            [
             1,
             "#276419"
            ]
           ],
           "sequential": [
            [
             0,
             "#0d0887"
            ],
            [
             0.1111111111111111,
             "#46039f"
            ],
            [
             0.2222222222222222,
             "#7201a8"
            ],
            [
             0.3333333333333333,
             "#9c179e"
            ],
            [
             0.4444444444444444,
             "#bd3786"
            ],
            [
             0.5555555555555556,
             "#d8576b"
            ],
            [
             0.6666666666666666,
             "#ed7953"
            ],
            [
             0.7777777777777778,
             "#fb9f3a"
            ],
            [
             0.8888888888888888,
             "#fdca26"
            ],
            [
             1,
             "#f0f921"
            ]
           ],
           "sequentialminus": [
            [
             0,
             "#0d0887"
            ],
            [
             0.1111111111111111,
             "#46039f"
            ],
            [
             0.2222222222222222,
             "#7201a8"
            ],
            [
             0.3333333333333333,
             "#9c179e"
            ],
            [
             0.4444444444444444,
             "#bd3786"
            ],
            [
             0.5555555555555556,
             "#d8576b"
            ],
            [
             0.6666666666666666,
             "#ed7953"
            ],
            [
             0.7777777777777778,
             "#fb9f3a"
            ],
            [
             0.8888888888888888,
             "#fdca26"
            ],
            [
             1,
             "#f0f921"
            ]
           ]
          },
          "colorway": [
           "#636efa",
           "#EF553B",
           "#00cc96",
           "#ab63fa",
           "#FFA15A",
           "#19d3f3",
           "#FF6692",
           "#B6E880",
           "#FF97FF",
           "#FECB52"
          ],
          "font": {
           "color": "#2a3f5f"
          },
          "geo": {
           "bgcolor": "white",
           "lakecolor": "white",
           "landcolor": "#E5ECF6",
           "showlakes": true,
           "showland": true,
           "subunitcolor": "white"
          },
          "hoverlabel": {
           "align": "left"
          },
          "hovermode": "closest",
          "mapbox": {
           "style": "light"
          },
          "paper_bgcolor": "white",
          "plot_bgcolor": "#E5ECF6",
          "polar": {
           "angularaxis": {
            "gridcolor": "white",
            "linecolor": "white",
            "ticks": ""
           },
           "bgcolor": "#E5ECF6",
           "radialaxis": {
            "gridcolor": "white",
            "linecolor": "white",
            "ticks": ""
           }
          },
          "scene": {
           "xaxis": {
            "backgroundcolor": "#E5ECF6",
            "gridcolor": "white",
            "gridwidth": 2,
            "linecolor": "white",
            "showbackground": true,
            "ticks": "",
            "zerolinecolor": "white"
           },
           "yaxis": {
            "backgroundcolor": "#E5ECF6",
            "gridcolor": "white",
            "gridwidth": 2,
            "linecolor": "white",
            "showbackground": true,
            "ticks": "",
            "zerolinecolor": "white"
           },
           "zaxis": {
            "backgroundcolor": "#E5ECF6",
            "gridcolor": "white",
            "gridwidth": 2,
            "linecolor": "white",
            "showbackground": true,
            "ticks": "",
            "zerolinecolor": "white"
           }
          },
          "shapedefaults": {
           "line": {
            "color": "#2a3f5f"
           }
          },
          "ternary": {
           "aaxis": {
            "gridcolor": "white",
            "linecolor": "white",
            "ticks": ""
           },
           "baxis": {
            "gridcolor": "white",
            "linecolor": "white",
            "ticks": ""
           },
           "bgcolor": "#E5ECF6",
           "caxis": {
            "gridcolor": "white",
            "linecolor": "white",
            "ticks": ""
           }
          },
          "title": {
           "x": 0.05
          },
          "xaxis": {
           "automargin": true,
           "gridcolor": "white",
           "linecolor": "white",
           "ticks": "",
           "title": {
            "standoff": 15
           },
           "zerolinecolor": "white",
           "zerolinewidth": 2
          },
          "yaxis": {
           "automargin": true,
           "gridcolor": "white",
           "linecolor": "white",
           "ticks": "",
           "title": {
            "standoff": 15
           },
           "zerolinecolor": "white",
           "zerolinewidth": 2
          }
         }
        },
        "title": {
         "text": "Most trafficked US airports<br>(Hover for airport names)"
        }
       }
      }
     },
     "metadata": {},
     "output_type": "display_data"
    }
   ],
   "source": [
    "import plotly.graph_objects as go\n",
    "\n",
    "import pandas as pd\n",
    "\n",
    "df = pd.read_csv('https://raw.githubusercontent.com/plotly/datasets/master/2011_february_us_airport_traffic.csv')\n",
    "df['text'] = df['airport'] + '' + df['city'] + ', ' + df['state'] + '' + 'Arrivals: ' + df['cnt'].astype(str)\n",
    "\n",
    "fig = go.Figure(data=go.Scattergeo(\n",
    "        lon = df['long'],\n",
    "        lat = df['lat'],\n",
    "        text = df['text'],\n",
    "        mode = 'markers',\n",
    "        marker_color = df['cnt'],\n",
    "        ))\n",
    "\n",
    "fig.update_layout(\n",
    "        title = 'Most trafficked US airports<br>(Hover for airport names)',\n",
    "        geo_scope='usa',\n",
    "    )\n",
    "#fig.show()\n"
   ]
  },
  {
   "cell_type": "code",
   "execution_count": 6,
   "id": "2fa29066",
   "metadata": {},
   "outputs": [
    {
     "name": "stdout",
     "output_type": "stream",
     "text": [
      "457\n"
     ]
    },
    {
     "data": {
      "text/html": [
       "<div>\n",
       "<style scoped>\n",
       "    .dataframe tbody tr th:only-of-type {\n",
       "        vertical-align: middle;\n",
       "    }\n",
       "\n",
       "    .dataframe tbody tr th {\n",
       "        vertical-align: top;\n",
       "    }\n",
       "\n",
       "    .dataframe thead th {\n",
       "        text-align: right;\n",
       "    }\n",
       "</style>\n",
       "<table border=\"1\" class=\"dataframe\">\n",
       "  <thead>\n",
       "    <tr style=\"text-align: right;\">\n",
       "      <th></th>\n",
       "      <th>country</th>\n",
       "      <th>state</th>\n",
       "      <th>county</th>\n",
       "      <th>name</th>\n",
       "      <th>lat</th>\n",
       "      <th>lng</th>\n",
       "    </tr>\n",
       "  </thead>\n",
       "  <tbody>\n",
       "    <tr>\n",
       "      <th>26</th>\n",
       "      <td>AE</td>\n",
       "      <td>Dubai</td>\n",
       "      <td>NaN</td>\n",
       "      <td>Dubai</td>\n",
       "      <td>25.07725</td>\n",
       "      <td>55.30927</td>\n",
       "    </tr>\n",
       "    <tr>\n",
       "      <th>30</th>\n",
       "      <td>AE</td>\n",
       "      <td>Sharjah Emirate</td>\n",
       "      <td>NaN</td>\n",
       "      <td>Sharjah</td>\n",
       "      <td>25.33737</td>\n",
       "      <td>55.41206</td>\n",
       "    </tr>\n",
       "    <tr>\n",
       "      <th>283</th>\n",
       "      <td>AF</td>\n",
       "      <td>Kabul Province</td>\n",
       "      <td>Kabul</td>\n",
       "      <td>Kabul</td>\n",
       "      <td>34.52813</td>\n",
       "      <td>69.17233</td>\n",
       "    </tr>\n",
       "    <tr>\n",
       "      <th>1327</th>\n",
       "      <td>AR</td>\n",
       "      <td>Misiones</td>\n",
       "      <td>NaN</td>\n",
       "      <td>San José</td>\n",
       "      <td>-27.76916</td>\n",
       "      <td>-55.78033</td>\n",
       "    </tr>\n",
       "    <tr>\n",
       "      <th>1745</th>\n",
       "      <td>AR</td>\n",
       "      <td>Catamarca</td>\n",
       "      <td>NaN</td>\n",
       "      <td>San José</td>\n",
       "      <td>-28.38756</td>\n",
       "      <td>-65.70087</td>\n",
       "    </tr>\n",
       "  </tbody>\n",
       "</table>\n",
       "</div>"
      ],
      "text/plain": [
       "     country            state county      name       lat       lng\n",
       "26        AE            Dubai    NaN     Dubai  25.07725  55.30927\n",
       "30        AE  Sharjah Emirate    NaN   Sharjah  25.33737  55.41206\n",
       "283       AF   Kabul Province  Kabul     Kabul  34.52813  69.17233\n",
       "1327      AR         Misiones    NaN  San José -27.76916 -55.78033\n",
       "1745      AR        Catamarca    NaN  San José -28.38756 -65.70087"
      ]
     },
     "execution_count": 6,
     "metadata": {},
     "output_type": "execute_result"
    }
   ],
   "source": [
    "import pandas as pd\n",
    "\n",
    "loc = pd.read_csv(\"world_cities.csv\")\n",
    "\n",
    "loc_n_de = loc[loc[\"name\"].isin(sess_not_de_locz)]\n",
    "loc_n_de.to_csv(\"geo_not_de.csv\", index=False)\n",
    "print(len(loc_n_de))\n",
    "loc_n_de.head()"
   ]
  }
 ],
 "metadata": {
  "kernelspec": {
   "display_name": ".venv (3.13.2)",
   "language": "python",
   "name": "python3"
  },
  "language_info": {
   "codemirror_mode": {
    "name": "ipython",
    "version": 3
   },
   "file_extension": ".py",
   "mimetype": "text/x-python",
   "name": "python",
   "nbconvert_exporter": "python",
   "pygments_lexer": "ipython3",
   "version": "3.13.2"
  }
 },
 "nbformat": 4,
 "nbformat_minor": 5
}
