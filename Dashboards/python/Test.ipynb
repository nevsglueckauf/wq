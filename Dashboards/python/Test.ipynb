{
 "cells": [
  {
   "cell_type": "markdown",
   "id": "8316c494",
   "metadata": {},
   "source": [
    "# Testing Projetcs's Python eco system"
   ]
  },
  {
   "cell_type": "code",
   "execution_count": null,
   "id": "98992993",
   "metadata": {},
   "outputs": [
    {
     "name": "stdout",
     "output_type": "stream",
     "text": [
      "['generic_elements.py', 'sanitizer.py', 'provider.py', '__pycache__', 'factory.py', 'container.py', 'README.md']\n"
     ]
    }
   ],
   "source": [
    "import os\n",
    "# Verzeichnis auslesen\n",
    "files = os.listdir('wtf')\n",
    "print(files)\n",
    "#os.chdir()"
   ]
  },
  {
   "cell_type": "code",
   "execution_count": 5,
   "id": "afc60f7a",
   "metadata": {},
   "outputs": [
    {
     "name": "stdout",
     "output_type": "stream",
     "text": [
      "Help on class TabFactory in module wtf.factory:\n",
      "\n",
      "class TabFactory(builtins.object)\n",
      " |  Factory for content of tab's children\n",
      " |  - dataframes\n",
      " |  - grids\n",
      " |  - graphs\n",
      " |  - tbd.\n",
      " |\n",
      " |  Static methods defined here:\n",
      " |\n",
      " |  df(ds: str, dt='') -> pd.DataFrame\n",
      " |      Getting dataframe from given data source\n",
      " |\n",
      " |  generic(ds: str) -> html.Div\n",
      " |\n",
      " |  grid()\n",
      " |\n",
      " |  sales()\n",
      " |\n",
      " |  ----------------------------------------------------------------------\n",
      " |  Data descriptors defined here:\n",
      " |\n",
      " |  __dict__\n",
      " |      dictionary for instance variables\n",
      " |\n",
      " |  __weakref__\n",
      " |      list of weak references to the object\n",
      " |\n",
      " |  ----------------------------------------------------------------------\n",
      " |  Data and other attributes defined here:\n",
      " |\n",
      " |  txt_cl_prm = '#385682'\n",
      " |\n",
      " |  txt_cl_scn = '#0A1F3F'\n",
      "\n"
     ]
    }
   ],
   "source": [
    "from wtf.factory import TabFactory\n",
    "\n",
    "help(TabFactory)"
   ]
  },
  {
   "cell_type": "code",
   "execution_count": null,
   "id": "942d4ee3",
   "metadata": {},
   "outputs": [
    {
     "ename": "ModuleNotFoundError",
     "evalue": "No module named 'sanitizer'",
     "output_type": "error",
     "traceback": [
      "\u001b[31m---------------------------------------------------------------------------\u001b[39m",
      "\u001b[31mModuleNotFoundError\u001b[39m                       Traceback (most recent call last)",
      "\u001b[36mCell\u001b[39m\u001b[36m \u001b[39m\u001b[32mIn[3]\u001b[39m\u001b[32m, line 1\u001b[39m\n\u001b[32m----> \u001b[39m\u001b[32m1\u001b[39m \u001b[38;5;28;01mfrom\u001b[39;00m\u001b[38;5;250m \u001b[39m\u001b[34;01msanitizer\u001b[39;00m\u001b[38;5;250m \u001b[39m\u001b[38;5;28;01mimport\u001b[39;00m Sanitizer\n\u001b[32m      2\u001b[39m help(Sanitizer)\n",
      "\u001b[31mModuleNotFoundError\u001b[39m: No module named 'sanitizer'"
     ]
    }
   ],
   "source": [
    "from wtf.sanitizer import Sanitizer\n",
    "help(Sanitizer)"
   ]
  }
 ],
 "metadata": {
  "kernelspec": {
   "display_name": ".venv",
   "language": "python",
   "name": "python3"
  },
  "language_info": {
   "codemirror_mode": {
    "name": "ipython",
    "version": 3
   },
   "file_extension": ".py",
   "mimetype": "text/x-python",
   "name": "python",
   "nbconvert_exporter": "python",
   "pygments_lexer": "ipython3",
   "version": "3.14.0"
  }
 },
 "nbformat": 4,
 "nbformat_minor": 5
}
