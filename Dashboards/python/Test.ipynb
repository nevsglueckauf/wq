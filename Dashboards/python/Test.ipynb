{
 "cells": [
  {
   "cell_type": "markdown",
   "id": "8316c494",
   "metadata": {},
   "source": [
    "# Testing Projetcs's Python eco system"
   ]
  },
  {
   "cell_type": "code",
   "execution_count": null,
   "id": "afc60f7a",
   "metadata": {},
   "outputs": [],
   "source": [
    "from factory import TabFactory\n",
    "\n",
    "df = TabFactory.df('output/sales_per_channel.csv', 'Tag')\n",
    "df"
   ]
  }
 ],
 "metadata": {
  "kernelspec": {
   "display_name": ".venv (3.13.2)",
   "language": "python",
   "name": "python3"
  },
  "language_info": {
   "codemirror_mode": {
    "name": "ipython",
    "version": 3
   },
   "file_extension": ".py",
   "mimetype": "text/x-python",
   "name": "python",
   "nbconvert_exporter": "python",
   "pygments_lexer": "ipython3",
   "version": "3.13.2"
  }
 },
 "nbformat": 4,
 "nbformat_minor": 5
}
