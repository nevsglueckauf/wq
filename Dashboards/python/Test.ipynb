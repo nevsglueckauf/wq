{
 "cells": [
  {
   "cell_type": "markdown",
   "id": "8316c494",
   "metadata": {},
   "source": [
    "# Testing Projetcs's Python eco system"
   ]
  },
  {
   "cell_type": "code",
   "execution_count": 13,
   "id": "afc60f7a",
   "metadata": {},
   "outputs": [
    {
     "name": "stdout",
     "output_type": "stream",
     "text": [
      "Help on class TabFactory in module factory:\n",
      "\n",
      "class TabFactory(builtins.object)\n",
      " |  Factory for content of tab's children\n",
      " |      - dataframes\n",
      " |      - grids\n",
      " |      - graphs\n",
      " |      - tbd.\n",
      " |\n",
      " |  Returns:\n",
      " |      _type_: _description_\n",
      " |\n",
      " |  Static methods defined here:\n",
      " |\n",
      " |  df(ds: str, dt: str = 'Datum') -> pandas.core.frame.DataFrame\n",
      " |      # load data source\n",
      " |      # opt. grid\n",
      " |\n",
      " |  generic(ds: str) -> dash.html.Div.Div\n",
      " |\n",
      " |  grid()\n",
      " |\n",
      " |  ----------------------------------------------------------------------\n",
      " |  Data descriptors defined here:\n",
      " |\n",
      " |  __dict__\n",
      " |      dictionary for instance variables\n",
      " |\n",
      " |  __weakref__\n",
      " |      list of weak references to the object\n",
      "\n"
     ]
    }
   ],
   "source": [
    "from factory import TabFactory\n",
    "\n",
    "help(TabFactory)"
   ]
  }
 ],
 "metadata": {
  "kernelspec": {
   "display_name": ".venv (3.13.2)",
   "language": "python",
   "name": "python3"
  },
  "language_info": {
   "codemirror_mode": {
    "name": "ipython",
    "version": 3
   },
   "file_extension": ".py",
   "mimetype": "text/x-python",
   "name": "python",
   "nbconvert_exporter": "python",
   "pygments_lexer": "ipython3",
   "version": "3.13.2"
  }
 },
 "nbformat": 4,
 "nbformat_minor": 5
}
