{
 "cells": [
  {
   "cell_type": "markdown",
   "id": "8316c494",
   "metadata": {},
   "source": [
    "# Testing Projetcs's Python eco system"
   ]
  },
  {
   "cell_type": "code",
   "execution_count": null,
   "id": "98992993",
   "metadata": {},
   "outputs": [
    {
     "name": "stdout",
     "output_type": "stream",
     "text": [
      "['generic_elements.py', 'sanitizer.py', 'provider.py', '__pycache__', 'factory.py', 'container.py', 'README.md']\n"
     ]
    }
   ],
   "source": [
    "import os\n",
    "# Verzeichnis auslesen\n",
    "files = os.listdir('wtf')\n",
    "print(files)\n",
    "#os.chdir()"
   ]
  },
  {
   "cell_type": "code",
   "execution_count": 5,
   "id": "afc60f7a",
   "metadata": {},
   "outputs": [
    {
     "name": "stdout",
     "output_type": "stream",
     "text": [
      "Help on class TabFactory in module wtf.factory:\n",
      "\n",
      "class TabFactory(builtins.object)\n",
      " |  Factory for content of tab's children\n",
      " |  - dataframes\n",
      " |  - grids\n",
      " |  - graphs\n",
      " |  - tbd.\n",
      " |\n",
      " |  Static methods defined here:\n",
      " |\n",
      " |  df(ds: str, dt='') -> pd.DataFrame\n",
      " |      Getting dataframe from given data source\n",
      " |\n",
      " |  generic(ds: str) -> html.Div\n",
      " |\n",
      " |  grid()\n",
      " |\n",
      " |  sales()\n",
      " |\n",
      " |  ----------------------------------------------------------------------\n",
      " |  Data descriptors defined here:\n",
      " |\n",
      " |  __dict__\n",
      " |      dictionary for instance variables\n",
      " |\n",
      " |  __weakref__\n",
      " |      list of weak references to the object\n",
      " |\n",
      " |  ----------------------------------------------------------------------\n",
      " |  Data and other attributes defined here:\n",
      " |\n",
      " |  txt_cl_prm = '#385682'\n",
      " |\n",
      " |  txt_cl_scn = '#0A1F3F'\n",
      "\n"
     ]
    }
   ],
   "source": [
    "from wtf.factory import TabFactory\n",
    "\n",
    "help(TabFactory)"
   ]
  },
  {
   "cell_type": "code",
   "execution_count": 6,
   "id": "942d4ee3",
   "metadata": {},
   "outputs": [
    {
     "name": "stdout",
     "output_type": "stream",
     "text": [
      "Help on class Sanitizer in module wtf.sanitizer:\n",
      "\n",
      "class Sanitizer(builtins.object)\n",
      " |  Class sanitizing data\n",
      " |  - fill time series\n",
      " |  - adjust data types\n",
      " |\n",
      " |  Methods defined here:\n",
      " |\n",
      " |  __init__(self)\n",
      " |      Initialize self.  See help(type(self)) for accurate signature.\n",
      " |\n",
      " |  ----------------------------------------------------------------------\n",
      " |  Static methods defined here:\n",
      " |\n",
      " |  get_time_df(\n",
      " |      nm: str,\n",
      " |      frm: str,\n",
      " |      utl: str,\n",
      " |      freq: str = 'D',\n",
      " |      format: str = 'YYYY-mm-dd'\n",
      " |  ) -> pd.DataFrame\n",
      " |      _summary_\n",
      " |\n",
      " |      Args:\n",
      " |          nm (str): Name der Datumsspalte\n",
      " |          frm (str): from Datum\n",
      " |          utl (str): until Datum\n",
      " |          freq (str, optional): Frequency; defaults to 'D'.\n",
      " |          format (str, optional): Optional Datumsformat string Defaults to 'YYYY-mm-dd'.\n",
      " |\n",
      " |      Returns:\n",
      " |          pd.DataFrame: _description_\n",
      " |\n",
      " |  ----------------------------------------------------------------------\n",
      " |  Data descriptors defined here:\n",
      " |\n",
      " |  __dict__\n",
      " |      dictionary for instance variables\n",
      " |\n",
      " |  __weakref__\n",
      " |      list of weak references to the object\n",
      "\n"
     ]
    }
   ],
   "source": [
    "from wtf.sanitizer import Sanitizer\n",
    "help(Sanitizer)"
   ]
  }
 ],
 "metadata": {
  "kernelspec": {
   "display_name": ".venv",
   "language": "python",
   "name": "python3"
  },
  "language_info": {
   "codemirror_mode": {
    "name": "ipython",
    "version": 3
   },
   "file_extension": ".py",
   "mimetype": "text/x-python",
   "name": "python",
   "nbconvert_exporter": "python",
   "pygments_lexer": "ipython3",
   "version": "3.14.0"
  }
 },
 "nbformat": 4,
 "nbformat_minor": 5
}
