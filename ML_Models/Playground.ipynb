{
 "cells": [
  {
   "cell_type": "markdown",
   "id": "77e9c7a5",
   "metadata": {},
   "source": [
    "# <img src=\"../Dashboards/python/assets/whisk_rox.png\"> Whiskey on the Rocks\n",
    "\n",
    "## \"Spielwiese\" für ML Modelle"
   ]
  },
  {
   "cell_type": "markdown",
   "id": "c212a218",
   "metadata": {},
   "source": [
    "### Foo"
   ]
  },
  {
   "cell_type": "code",
   "execution_count": 1,
   "id": "2b9a5b6d",
   "metadata": {},
   "outputs": [],
   "source": [
    "# Importe\n",
    "import matplotlib.pyplot as plt\n",
    "import seaborn as sns\n",
    "import pandas as pd\n",
    "from sklearn.linear_model import LinearRegression\n",
    "from sklearn.model_selection import train_test_split"
   ]
  },
  {
   "cell_type": "markdown",
   "id": "130d09df",
   "metadata": {},
   "source": [
    "Das Mapping der Spaltennamen findet sich in <kbd>dd.py</kbd>"
   ]
  },
  {
   "cell_type": "code",
   "execution_count": 17,
   "id": "e459906c",
   "metadata": {},
   "outputs": [
    {
     "data": {
      "text/plain": [
       "sess_ctry                   object\n",
       "sess_loc                    object\n",
       "date                datetime64[ns]\n",
       "sug_platform                object\n",
       "landing_uri                 object\n",
       "session_duration           float64\n",
       "pages_per_sess             float64\n",
       "jump_offs                    int64\n",
       "sess_cart_add                int64\n",
       "sess_co                      int64\n",
       "sess_co_done                 int64\n",
       "sessions                     int64\n",
       "cnv_rate                   float64\n",
       "dtype: object"
      ]
     },
     "execution_count": 17,
     "metadata": {},
     "output_type": "execute_result"
    }
   ],
   "source": [
    "df_full = pd.read_csv(\"../Data/Sanitized/sessions.csv\")\n",
    "df_full['date'] = pd.to_datetime(df_full['date'], format=\"%Y-%m-%d\")\n",
    "df_full['cnv_rate'] = round(df_full['sess_co_done'] / df_full['sessions'], 3)\n",
    "df_full.dtypes"
   ]
  },
  {
   "cell_type": "code",
   "execution_count": 18,
   "id": "4c547fcb",
   "metadata": {},
   "outputs": [
    {
     "data": {
      "text/html": [
       "<div>\n",
       "<style scoped>\n",
       "    .dataframe tbody tr th:only-of-type {\n",
       "        vertical-align: middle;\n",
       "    }\n",
       "\n",
       "    .dataframe tbody tr th {\n",
       "        vertical-align: top;\n",
       "    }\n",
       "\n",
       "    .dataframe thead th {\n",
       "        text-align: right;\n",
       "    }\n",
       "</style>\n",
       "<table border=\"1\" class=\"dataframe\">\n",
       "  <thead>\n",
       "    <tr style=\"text-align: right;\">\n",
       "      <th></th>\n",
       "      <th>sess_ctry</th>\n",
       "      <th>sess_loc</th>\n",
       "      <th>date</th>\n",
       "      <th>sug_platform</th>\n",
       "      <th>landing_uri</th>\n",
       "      <th>session_duration</th>\n",
       "      <th>pages_per_sess</th>\n",
       "      <th>jump_offs</th>\n",
       "      <th>sess_cart_add</th>\n",
       "      <th>sess_co</th>\n",
       "      <th>sess_co_done</th>\n",
       "      <th>sessions</th>\n",
       "      <th>cnv_rate</th>\n",
       "    </tr>\n",
       "  </thead>\n",
       "  <tbody>\n",
       "    <tr>\n",
       "      <th>0</th>\n",
       "      <td>Germany</td>\n",
       "      <td>Nuremberg</td>\n",
       "      <td>2024-10-01</td>\n",
       "      <td>direct</td>\n",
       "      <td>https://www.whiskyquartier.de/pages/datenschutz</td>\n",
       "      <td>368.000000</td>\n",
       "      <td>5.000000</td>\n",
       "      <td>0</td>\n",
       "      <td>0</td>\n",
       "      <td>0</td>\n",
       "      <td>0</td>\n",
       "      <td>1</td>\n",
       "      <td>0.0</td>\n",
       "    </tr>\n",
       "    <tr>\n",
       "      <th>1</th>\n",
       "      <td>Germany</td>\n",
       "      <td>Munich</td>\n",
       "      <td>2024-10-01</td>\n",
       "      <td>direct</td>\n",
       "      <td>https://www.whiskyquartier.de/products/kavalan...</td>\n",
       "      <td>237.000000</td>\n",
       "      <td>7.000000</td>\n",
       "      <td>0</td>\n",
       "      <td>1</td>\n",
       "      <td>1</td>\n",
       "      <td>0</td>\n",
       "      <td>1</td>\n",
       "      <td>0.0</td>\n",
       "    </tr>\n",
       "    <tr>\n",
       "      <th>2</th>\n",
       "      <td>United Kingdom</td>\n",
       "      <td>London</td>\n",
       "      <td>2024-10-01</td>\n",
       "      <td>direct</td>\n",
       "      <td>https://www.whiskyquartier.de/password</td>\n",
       "      <td>0.000000</td>\n",
       "      <td>1.000000</td>\n",
       "      <td>1</td>\n",
       "      <td>0</td>\n",
       "      <td>0</td>\n",
       "      <td>0</td>\n",
       "      <td>1</td>\n",
       "      <td>0.0</td>\n",
       "    </tr>\n",
       "    <tr>\n",
       "      <th>3</th>\n",
       "      <td>Germany</td>\n",
       "      <td>Hausach</td>\n",
       "      <td>2024-10-01</td>\n",
       "      <td>direct</td>\n",
       "      <td>https://7bb991-55.myshopify.com/</td>\n",
       "      <td>0.000000</td>\n",
       "      <td>1.000000</td>\n",
       "      <td>1</td>\n",
       "      <td>0</td>\n",
       "      <td>0</td>\n",
       "      <td>0</td>\n",
       "      <td>1</td>\n",
       "      <td>0.0</td>\n",
       "    </tr>\n",
       "    <tr>\n",
       "      <th>4</th>\n",
       "      <td>Germany</td>\n",
       "      <td>Burgthann</td>\n",
       "      <td>2024-10-01</td>\n",
       "      <td>direct</td>\n",
       "      <td>https://7bb991-55.myshopify.com/</td>\n",
       "      <td>327.555556</td>\n",
       "      <td>1.888889</td>\n",
       "      <td>7</td>\n",
       "      <td>0</td>\n",
       "      <td>0</td>\n",
       "      <td>0</td>\n",
       "      <td>9</td>\n",
       "      <td>0.0</td>\n",
       "    </tr>\n",
       "    <tr>\n",
       "      <th>5</th>\n",
       "      <td>Germany</td>\n",
       "      <td>Nuremberg</td>\n",
       "      <td>2024-10-01</td>\n",
       "      <td>direct</td>\n",
       "      <td>https://7bb991-55.myshopify.com/?_ab=0&amp;_fd=0&amp;_...</td>\n",
       "      <td>579.666667</td>\n",
       "      <td>4.333333</td>\n",
       "      <td>1</td>\n",
       "      <td>0</td>\n",
       "      <td>0</td>\n",
       "      <td>0</td>\n",
       "      <td>3</td>\n",
       "      <td>0.0</td>\n",
       "    </tr>\n",
       "    <tr>\n",
       "      <th>6</th>\n",
       "      <td>Canada</td>\n",
       "      <td>NaN</td>\n",
       "      <td>2024-10-01</td>\n",
       "      <td>direct</td>\n",
       "      <td>https://www.whiskyquartier.de/password</td>\n",
       "      <td>0.000000</td>\n",
       "      <td>1.000000</td>\n",
       "      <td>1</td>\n",
       "      <td>0</td>\n",
       "      <td>0</td>\n",
       "      <td>0</td>\n",
       "      <td>1</td>\n",
       "      <td>0.0</td>\n",
       "    </tr>\n",
       "    <tr>\n",
       "      <th>7</th>\n",
       "      <td>Ukraine</td>\n",
       "      <td>Kyiv</td>\n",
       "      <td>2024-10-01</td>\n",
       "      <td>direct</td>\n",
       "      <td>https://www.whiskyquartier.de/password</td>\n",
       "      <td>0.000000</td>\n",
       "      <td>1.000000</td>\n",
       "      <td>1</td>\n",
       "      <td>0</td>\n",
       "      <td>0</td>\n",
       "      <td>0</td>\n",
       "      <td>1</td>\n",
       "      <td>0.0</td>\n",
       "    </tr>\n",
       "    <tr>\n",
       "      <th>8</th>\n",
       "      <td>Germany</td>\n",
       "      <td>Nuremberg</td>\n",
       "      <td>2024-10-01</td>\n",
       "      <td>direct</td>\n",
       "      <td>https://www.whiskyquartier.de/</td>\n",
       "      <td>4999.000000</td>\n",
       "      <td>14.666667</td>\n",
       "      <td>2</td>\n",
       "      <td>2</td>\n",
       "      <td>1</td>\n",
       "      <td>0</td>\n",
       "      <td>6</td>\n",
       "      <td>0.0</td>\n",
       "    </tr>\n",
       "    <tr>\n",
       "      <th>9</th>\n",
       "      <td>Germany</td>\n",
       "      <td>Nuremberg</td>\n",
       "      <td>2024-10-01</td>\n",
       "      <td>direct</td>\n",
       "      <td>https://www.whiskyquartier.de/password</td>\n",
       "      <td>776.000000</td>\n",
       "      <td>9.500000</td>\n",
       "      <td>0</td>\n",
       "      <td>0</td>\n",
       "      <td>0</td>\n",
       "      <td>0</td>\n",
       "      <td>2</td>\n",
       "      <td>0.0</td>\n",
       "    </tr>\n",
       "    <tr>\n",
       "      <th>10</th>\n",
       "      <td>France</td>\n",
       "      <td>NaN</td>\n",
       "      <td>2024-10-01</td>\n",
       "      <td>direct</td>\n",
       "      <td>https://www.whiskyquartier.de/password</td>\n",
       "      <td>0.000000</td>\n",
       "      <td>1.000000</td>\n",
       "      <td>1</td>\n",
       "      <td>0</td>\n",
       "      <td>0</td>\n",
       "      <td>0</td>\n",
       "      <td>1</td>\n",
       "      <td>0.0</td>\n",
       "    </tr>\n",
       "  </tbody>\n",
       "</table>\n",
       "</div>"
      ],
      "text/plain": [
       "         sess_ctry   sess_loc       date sug_platform  \\\n",
       "0          Germany  Nuremberg 2024-10-01       direct   \n",
       "1          Germany     Munich 2024-10-01       direct   \n",
       "2   United Kingdom     London 2024-10-01       direct   \n",
       "3          Germany    Hausach 2024-10-01       direct   \n",
       "4          Germany  Burgthann 2024-10-01       direct   \n",
       "5          Germany  Nuremberg 2024-10-01       direct   \n",
       "6           Canada        NaN 2024-10-01       direct   \n",
       "7          Ukraine       Kyiv 2024-10-01       direct   \n",
       "8          Germany  Nuremberg 2024-10-01       direct   \n",
       "9          Germany  Nuremberg 2024-10-01       direct   \n",
       "10          France        NaN 2024-10-01       direct   \n",
       "\n",
       "                                          landing_uri  session_duration  \\\n",
       "0     https://www.whiskyquartier.de/pages/datenschutz        368.000000   \n",
       "1   https://www.whiskyquartier.de/products/kavalan...        237.000000   \n",
       "2              https://www.whiskyquartier.de/password          0.000000   \n",
       "3                    https://7bb991-55.myshopify.com/          0.000000   \n",
       "4                    https://7bb991-55.myshopify.com/        327.555556   \n",
       "5   https://7bb991-55.myshopify.com/?_ab=0&_fd=0&_...        579.666667   \n",
       "6              https://www.whiskyquartier.de/password          0.000000   \n",
       "7              https://www.whiskyquartier.de/password          0.000000   \n",
       "8                      https://www.whiskyquartier.de/       4999.000000   \n",
       "9              https://www.whiskyquartier.de/password        776.000000   \n",
       "10             https://www.whiskyquartier.de/password          0.000000   \n",
       "\n",
       "    pages_per_sess  jump_offs  sess_cart_add  sess_co  sess_co_done  sessions  \\\n",
       "0         5.000000          0              0        0             0         1   \n",
       "1         7.000000          0              1        1             0         1   \n",
       "2         1.000000          1              0        0             0         1   \n",
       "3         1.000000          1              0        0             0         1   \n",
       "4         1.888889          7              0        0             0         9   \n",
       "5         4.333333          1              0        0             0         3   \n",
       "6         1.000000          1              0        0             0         1   \n",
       "7         1.000000          1              0        0             0         1   \n",
       "8        14.666667          2              2        1             0         6   \n",
       "9         9.500000          0              0        0             0         2   \n",
       "10        1.000000          1              0        0             0         1   \n",
       "\n",
       "    cnv_rate  \n",
       "0        0.0  \n",
       "1        0.0  \n",
       "2        0.0  \n",
       "3        0.0  \n",
       "4        0.0  \n",
       "5        0.0  \n",
       "6        0.0  \n",
       "7        0.0  \n",
       "8        0.0  \n",
       "9        0.0  \n",
       "10       0.0  "
      ]
     },
     "execution_count": 18,
     "metadata": {},
     "output_type": "execute_result"
    }
   ],
   "source": [
    "df_full.head(11)"
   ]
  },
  {
   "cell_type": "code",
   "execution_count": 12,
   "id": "68c3c663",
   "metadata": {},
   "outputs": [
    {
     "data": {
      "text/plain": [
       "Timestamp('2024-10-01 00:00:00')"
      ]
     },
     "execution_count": 12,
     "metadata": {},
     "output_type": "execute_result"
    }
   ],
   "source": [
    "df_full.loc[3]['date']"
   ]
  },
  {
   "cell_type": "code",
   "execution_count": null,
   "id": "3bfe5797",
   "metadata": {},
   "outputs": [
    {
     "data": {
      "text/plain": [
       "[np.float64(1.0), np.float64(0.0)]"
      ]
     },
     "execution_count": 19,
     "metadata": {},
     "output_type": "execute_result"
    }
   ],
   "source": [
    "\n",
    "[df_full['cnv_rate'].max(), df_full['cnv_rate'].min() ]"
   ]
  },
  {
   "cell_type": "markdown",
   "id": "60fd6193",
   "metadata": {},
   "source": [
    "### EDA - Spielereien"
   ]
  },
  {
   "cell_type": "code",
   "execution_count": 13,
   "id": "c81ff686",
   "metadata": {},
   "outputs": [
    {
     "data": {
      "text/html": [
       "<div>\n",
       "<style scoped>\n",
       "    .dataframe tbody tr th:only-of-type {\n",
       "        vertical-align: middle;\n",
       "    }\n",
       "\n",
       "    .dataframe tbody tr th {\n",
       "        vertical-align: top;\n",
       "    }\n",
       "\n",
       "    .dataframe thead th {\n",
       "        text-align: right;\n",
       "    }\n",
       "</style>\n",
       "<table border=\"1\" class=\"dataframe\">\n",
       "  <thead>\n",
       "    <tr style=\"text-align: right;\">\n",
       "      <th></th>\n",
       "      <th>sess_ctry</th>\n",
       "      <th>sess_loc</th>\n",
       "      <th>date</th>\n",
       "      <th>sug_platform</th>\n",
       "      <th>landing_uri</th>\n",
       "      <th>session_duration</th>\n",
       "      <th>pages_per_sess</th>\n",
       "      <th>jump_offs</th>\n",
       "      <th>sess_cart_add</th>\n",
       "      <th>sess_co</th>\n",
       "      <th>sess_co_done</th>\n",
       "      <th>sessions</th>\n",
       "    </tr>\n",
       "  </thead>\n",
       "  <tbody>\n",
       "    <tr>\n",
       "      <th>0</th>\n",
       "      <td>Germany</td>\n",
       "      <td>Nuremberg</td>\n",
       "      <td>2024-10-01</td>\n",
       "      <td>direct</td>\n",
       "      <td>https://www.whiskyquartier.de/pages/datenschutz</td>\n",
       "      <td>368.0</td>\n",
       "      <td>5.0</td>\n",
       "      <td>0</td>\n",
       "      <td>0</td>\n",
       "      <td>0</td>\n",
       "      <td>0</td>\n",
       "      <td>1</td>\n",
       "    </tr>\n",
       "    <tr>\n",
       "      <th>1</th>\n",
       "      <td>Germany</td>\n",
       "      <td>Munich</td>\n",
       "      <td>2024-10-01</td>\n",
       "      <td>direct</td>\n",
       "      <td>https://www.whiskyquartier.de/products/kavalan...</td>\n",
       "      <td>237.0</td>\n",
       "      <td>7.0</td>\n",
       "      <td>0</td>\n",
       "      <td>1</td>\n",
       "      <td>1</td>\n",
       "      <td>0</td>\n",
       "      <td>1</td>\n",
       "    </tr>\n",
       "    <tr>\n",
       "      <th>2</th>\n",
       "      <td>United Kingdom</td>\n",
       "      <td>London</td>\n",
       "      <td>2024-10-01</td>\n",
       "      <td>direct</td>\n",
       "      <td>https://www.whiskyquartier.de/password</td>\n",
       "      <td>0.0</td>\n",
       "      <td>1.0</td>\n",
       "      <td>1</td>\n",
       "      <td>0</td>\n",
       "      <td>0</td>\n",
       "      <td>0</td>\n",
       "      <td>1</td>\n",
       "    </tr>\n",
       "    <tr>\n",
       "      <th>3</th>\n",
       "      <td>Germany</td>\n",
       "      <td>Hausach</td>\n",
       "      <td>2024-10-01</td>\n",
       "      <td>direct</td>\n",
       "      <td>https://7bb991-55.myshopify.com/</td>\n",
       "      <td>0.0</td>\n",
       "      <td>1.0</td>\n",
       "      <td>1</td>\n",
       "      <td>0</td>\n",
       "      <td>0</td>\n",
       "      <td>0</td>\n",
       "      <td>1</td>\n",
       "    </tr>\n",
       "  </tbody>\n",
       "</table>\n",
       "</div>"
      ],
      "text/plain": [
       "        sess_ctry   sess_loc       date sug_platform  \\\n",
       "0         Germany  Nuremberg 2024-10-01       direct   \n",
       "1         Germany     Munich 2024-10-01       direct   \n",
       "2  United Kingdom     London 2024-10-01       direct   \n",
       "3         Germany    Hausach 2024-10-01       direct   \n",
       "\n",
       "                                         landing_uri  session_duration  \\\n",
       "0    https://www.whiskyquartier.de/pages/datenschutz             368.0   \n",
       "1  https://www.whiskyquartier.de/products/kavalan...             237.0   \n",
       "2             https://www.whiskyquartier.de/password               0.0   \n",
       "3                   https://7bb991-55.myshopify.com/               0.0   \n",
       "\n",
       "   pages_per_sess  jump_offs  sess_cart_add  sess_co  sess_co_done  sessions  \n",
       "0             5.0          0              0        0             0         1  \n",
       "1             7.0          0              1        1             0         1  \n",
       "2             1.0          1              0        0             0         1  \n",
       "3             1.0          1              0        0             0         1  "
      ]
     },
     "execution_count": 13,
     "metadata": {},
     "output_type": "execute_result"
    }
   ],
   "source": [
    "df_full.loc[:3]"
   ]
  },
  {
   "cell_type": "code",
   "execution_count": 21,
   "id": "cfc13b11",
   "metadata": {},
   "outputs": [
    {
     "data": {
      "text/plain": [
       "date        sug_platform    \n",
       "2024-10-01  alphabet             1\n",
       "            direct              32\n",
       "            good-apps            1\n",
       "2024-11-01  7bb991-55            2\n",
       "            alphabet            36\n",
       "                                ..\n",
       "2025-08-01  microsoft            1\n",
       "            office               1\n",
       "            shopify              7\n",
       "            syndicatedsearch     4\n",
       "            whiskybase          50\n",
       "Name: sessions, Length: 67, dtype: int64"
      ]
     },
     "execution_count": 21,
     "metadata": {},
     "output_type": "execute_result"
    }
   ],
   "source": [
    "agg = df_full.groupby(['date', 'sug_platform'])\n",
    "agg['sessions'].sum()"
   ]
  },
  {
   "cell_type": "markdown",
   "id": "f0a71988",
   "metadata": {},
   "source": [
    "#### Grafische Analyse"
   ]
  },
  {
   "cell_type": "code",
   "execution_count": 14,
   "id": "b90f3148",
   "metadata": {},
   "outputs": [
    {
     "data": {
      "text/plain": [
       "<Axes: xlabel='date', ylabel='sessions'>"
      ]
     },
     "execution_count": 14,
     "metadata": {},
     "output_type": "execute_result"
    },
    {
     "data": {
      "image/png": "[encoded data removed]",
      "text/plain": [
       "<Figure size 640x480 with 1 Axes>"
      ]
     },
     "metadata": {},
     "output_type": "display_data"
    }
   ],
   "source": [
    "sns.lineplot(df_full, x=\"date\", y=\"sessions\")"
   ]
  },
  {
   "cell_type": "markdown",
   "id": "f17a4c35",
   "metadata": {},
   "source": [
    "#### Foo"
   ]
  },
  {
   "cell_type": "code",
   "execution_count": null,
   "id": "ebbe5a43",
   "metadata": {},
   "outputs": [],
   "source": []
  }
 ],
 "metadata": {
  "kernelspec": {
   "display_name": ".venv (3.13.2)",
   "language": "python",
   "name": "python3"
  },
  "language_info": {
   "codemirror_mode": {
    "name": "ipython",
    "version": 3
   },
   "file_extension": ".py",
   "mimetype": "text/x-python",
   "name": "python",
   "nbconvert_exporter": "python",
   "pygments_lexer": "ipython3",
   "version": "3.13.2"
  }
 },
 "nbformat": 4,
 "nbformat_minor": 5
}
