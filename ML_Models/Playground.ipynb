{
 "cells": [
  {
   "cell_type": "markdown",
   "id": "77e9c7a5",
   "metadata": {},
   "source": [
    "# <img src=\"../Dashboards/python/assets/whisk_rox.png\"> Whiskey on the Rocks\n",
    "\n",
    "## \"Spielwiese\" für ML Modelle"
   ]
  },
  {
   "cell_type": "markdown",
   "id": "c212a218",
   "metadata": {},
   "source": [
    "### Foo"
   ]
  },
  {
   "cell_type": "code",
   "execution_count": null,
   "id": "2b9a5b6d",
   "metadata": {
    "vscode": {
     "languageId": "plaintext"
    }
   },
   "outputs": [],
   "source": [
    "# Importe"
   ]
  }
 ],
 "metadata": {
  "language_info": {
   "name": "python"
  }
 },
 "nbformat": 4,
 "nbformat_minor": 5
}
