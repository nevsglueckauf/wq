{
 "cells": [
  {
   "cell_type": "markdown",
   "id": "c639acab",
   "metadata": {},
   "source": [
    "# Sample data generator "
   ]
  },
  {
   "cell_type": "code",
   "execution_count": 28,
   "id": "01eb9108",
   "metadata": {},
   "outputs": [
    {
     "data": {
      "image/png": "[encoded data removed]",
      "text/plain": [
       "<Figure size 640x480 with 1 Axes>"
      ]
     },
     "metadata": {},
     "output_type": "display_data"
    }
   ],
   "source": [
    "import pandas as pd\n",
    "import numpy as np\n",
    "import matplotlib.pyplot as plt\n",
    "import random\n",
    "import secrets\n",
    "\n",
    "DATE_START = '2024-08-01'\n",
    "DATE_END = '2025-09-23'\n",
    "HTTP_BASE = 'https://shop.example.org/'\n",
    "\n",
    "LND_PAGES = ['product?=', 'imprint', 'norwasy']\n",
    "\n",
    "SUG_PLT = ['direct', 'good-apps', 'alphabet', 'whiskybase', 'meta',\n",
    "       '7bb991-55', 'spiritradar', 'whiskystats', 'syndicatedsearch',\n",
    "       'meta-sitelink-2', 'microsoft', 'shopify', 'duckduckgo',\n",
    "       'linkedin', 'force', 'fb werbung', 'office']\n",
    "\n",
    "dates = pd.date_range(DATE_START, DATE_END)\n",
    "df = pd.DataFrame({\n",
    "    'date': dates,\n",
    "    'value': np.random.normal(0,1,dates.size),\n",
    "    'sugg_plt': 'PROXY_PLATFORM v.0.1', #[SUG_PLT[np.random.randint(0, len(SUG_PLT)-1 )] for x in range(0, dates.size)],\n",
    "    'lnd_pg': [HTTP_BASE + LND_PAGES[np.random.randint(0, len(LND_PAGES)-1 )] for x in range(0, dates.size)],\n",
    "    'value': np.random.randint(0, 10, dates.size),\n",
    "})\n",
    "df.set_index('date', inplace=True)\n",
    "plt.plot(df['sugg_plt'])\n",
    "plt.ylabel('Value')\n",
    "plt.xlabel('Date')\n",
    "plt.title('Random Values')\n",
    "plt.show()"
   ]
  },
  {
   "cell_type": "code",
   "execution_count": 32,
   "id": "2f460a8b",
   "metadata": {},
   "outputs": [
    {
     "name": "stdout",
     "output_type": "stream",
     "text": [
      "direct\n",
      "good-apps\n",
      "alphabet\n",
      "whiskybase\n",
      "meta\n",
      "7bb991-55\n",
      "spiritradar\n",
      "whiskystats\n",
      "syndicatedsearch\n",
      "meta-sitelink-2\n",
      "microsoft\n",
      "shopify\n",
      "duckduckgo\n",
      "linkedin\n",
      "force\n",
      "fb werbung\n",
      "office\n"
     ]
    }
   ],
   "source": [
    "\n",
    "for platform in SUG_PLT:\n",
    "    print(platform)\n",
    "    dates = pd.date_range(DATE_START, DATE_END)\n",
    "    df = pd.DataFrame({\n",
    "        'date': dates,\n",
    "        'sugg_plt':platform, #[SUG_PLT[np.random.randint(0, len(SUG_PLT)-1 )] for x in range(0, dates.size)],\n",
    "        'lnd_pg': [HTTP_BASE + LND_PAGES[np.random.randint(0, len(LND_PAGES)-1 )] for x in range(0, dates.size)],\n",
    "        'sessions': np.random.randint(123,1023 + np.random.randint(23, 118), dates.size),\n",
    "    })\n",
    "\n",
    "    df['sess_add_cart'] = round(df['sessions'] * np.random.randint(2, 10) / 100, 0)\n",
    "    df['sess_co'] = round(df['sess_add_cart'] * np.random.randint(10, 48) / 100, 0)\n",
    "    df['sess_co_done'] = round(df['sess_co'] * np.random.randint(48, 87) / 100, 0)\n",
    "    df.to_csv('output/' + platform + '.csv', index=False)\n",
    "    \n",
    "\n",
    "\n",
    "\n",
    "\n",
    "\n",
    "\n",
    "\n",
    "\n",
    "\n"
   ]
  },
  {
   "cell_type": "code",
   "execution_count": null,
   "id": "2bd584a8",
   "metadata": {},
   "outputs": [
    {
     "data": {
      "text/html": [
       "<div>\n",
       "<style scoped>\n",
       "    .dataframe tbody tr th:only-of-type {\n",
       "        vertical-align: middle;\n",
       "    }\n",
       "\n",
       "    .dataframe tbody tr th {\n",
       "        vertical-align: top;\n",
       "    }\n",
       "\n",
       "    .dataframe thead th {\n",
       "        text-align: right;\n",
       "    }\n",
       "</style>\n",
       "<table border=\"1\" class=\"dataframe\">\n",
       "  <thead>\n",
       "    <tr style=\"text-align: right;\">\n",
       "      <th></th>\n",
       "      <th>date</th>\n",
       "      <th>sugg_plt</th>\n",
       "      <th>lnd_pg</th>\n",
       "      <th>sessions</th>\n",
       "      <th>sess_add_cart</th>\n",
       "      <th>sess_co</th>\n",
       "      <th>sess_co_done</th>\n",
       "    </tr>\n",
       "  </thead>\n",
       "  <tbody>\n",
       "    <tr>\n",
       "      <th>0</th>\n",
       "      <td>2024-08-01</td>\n",
       "      <td>linkedin</td>\n",
       "      <td>https://shop.example.org/imprint</td>\n",
       "      <td>681</td>\n",
       "      <td>61.0</td>\n",
       "      <td>8.0</td>\n",
       "      <td>5.0</td>\n",
       "    </tr>\n",
       "    <tr>\n",
       "      <th>1</th>\n",
       "      <td>2024-08-02</td>\n",
       "      <td>whiskystats</td>\n",
       "      <td>https://shop.example.org/product?=</td>\n",
       "      <td>732</td>\n",
       "      <td>66.0</td>\n",
       "      <td>9.0</td>\n",
       "      <td>6.0</td>\n",
       "    </tr>\n",
       "    <tr>\n",
       "      <th>2</th>\n",
       "      <td>2024-08-03</td>\n",
       "      <td>alphabet</td>\n",
       "      <td>https://shop.example.org/imprint</td>\n",
       "      <td>976</td>\n",
       "      <td>88.0</td>\n",
       "      <td>11.0</td>\n",
       "      <td>7.0</td>\n",
       "    </tr>\n",
       "    <tr>\n",
       "      <th>3</th>\n",
       "      <td>2024-08-04</td>\n",
       "      <td>spiritradar</td>\n",
       "      <td>https://shop.example.org/imprint</td>\n",
       "      <td>870</td>\n",
       "      <td>78.0</td>\n",
       "      <td>10.0</td>\n",
       "      <td>7.0</td>\n",
       "    </tr>\n",
       "    <tr>\n",
       "      <th>4</th>\n",
       "      <td>2024-08-05</td>\n",
       "      <td>7bb991-55</td>\n",
       "      <td>https://shop.example.org/imprint</td>\n",
       "      <td>411</td>\n",
       "      <td>37.0</td>\n",
       "      <td>5.0</td>\n",
       "      <td>3.0</td>\n",
       "    </tr>\n",
       "  </tbody>\n",
       "</table>\n",
       "</div>"
      ],
      "text/plain": [
       "        date     sugg_plt                              lnd_pg  sessions  \\\n",
       "0 2024-08-01     linkedin    https://shop.example.org/imprint       681   \n",
       "1 2024-08-02  whiskystats  https://shop.example.org/product?=       732   \n",
       "2 2024-08-03     alphabet    https://shop.example.org/imprint       976   \n",
       "3 2024-08-04  spiritradar    https://shop.example.org/imprint       870   \n",
       "4 2024-08-05    7bb991-55    https://shop.example.org/imprint       411   \n",
       "\n",
       "   sess_add_cart  sess_co  sess_co_done  \n",
       "0           61.0      8.0           5.0  \n",
       "1           66.0      9.0           6.0  \n",
       "2           88.0     11.0           7.0  \n",
       "3           78.0     10.0           7.0  \n",
       "4           37.0      5.0           3.0  "
      ]
     },
     "execution_count": 25,
     "metadata": {},
     "output_type": "execute_result"
    }
   ],
   "source": []
  },
  {
   "cell_type": "code",
   "execution_count": null,
   "id": "ce2122cf",
   "metadata": {},
   "outputs": [],
   "source": [
    "df = "
   ]
  }
 ],
 "metadata": {
  "kernelspec": {
   "display_name": ".venv (3.13.2)",
   "language": "python",
   "name": "python3"
  },
  "language_info": {
   "codemirror_mode": {
    "name": "ipython",
    "version": 3
   },
   "file_extension": ".py",
   "mimetype": "text/x-python",
   "name": "python",
   "nbconvert_exporter": "python",
   "pygments_lexer": "ipython3",
   "version": "3.13.2"
  }
 },
 "nbformat": 4,
 "nbformat_minor": 5
}
