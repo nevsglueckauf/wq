{
 "cells": [
  {
   "cell_type": "code",
   "execution_count": null,
   "id": "ed3f03b0",
   "metadata": {},
   "outputs": [],
   "source": [
    "import pandas as pd\n",
    "\n",
    "file = \"brnd_per_day_sales_all.csv\"\n",
    "df = pd.read_csv(f\"Data/Agg/{file}\")\n",
    "\n",
    "[df.head(), len(df)]\n",
    "\n",
    "\n",
    "\n",
    "total_sales = df.groupby(\"brand\")['price'].sum()\n",
    "\n",
    "total_sales.to_csv(\"brnd_total_sales.csv\")"
   ]
  },
  {
   "cell_type": "code",
   "execution_count": 11,
   "id": "afa91a8e",
   "metadata": {},
   "outputs": [
    {
     "data": {
      "text/html": [
       "<div>\n",
       "<style scoped>\n",
       "    .dataframe tbody tr th:only-of-type {\n",
       "        vertical-align: middle;\n",
       "    }\n",
       "\n",
       "    .dataframe tbody tr th {\n",
       "        vertical-align: top;\n",
       "    }\n",
       "\n",
       "    .dataframe thead th {\n",
       "        text-align: right;\n",
       "    }\n",
       "</style>\n",
       "<table border=\"1\" class=\"dataframe\">\n",
       "  <thead>\n",
       "    <tr style=\"text-align: right;\">\n",
       "      <th></th>\n",
       "      <th>date</th>\n",
       "      <th>brand</th>\n",
       "      <th>price</th>\n",
       "    </tr>\n",
       "  </thead>\n",
       "  <tbody>\n",
       "    <tr>\n",
       "      <th>0</th>\n",
       "      <td>2019-10-01</td>\n",
       "      <td>acer</td>\n",
       "      <td>95733.36</td>\n",
       "    </tr>\n",
       "    <tr>\n",
       "      <th>1</th>\n",
       "      <td>2019-10-01</td>\n",
       "      <td>adamex</td>\n",
       "      <td>1338.49</td>\n",
       "    </tr>\n",
       "    <tr>\n",
       "      <th>2</th>\n",
       "      <td>2019-10-01</td>\n",
       "      <td>adata</td>\n",
       "      <td>140.80</td>\n",
       "    </tr>\n",
       "    <tr>\n",
       "      <th>3</th>\n",
       "      <td>2019-10-01</td>\n",
       "      <td>adidas</td>\n",
       "      <td>312.47</td>\n",
       "    </tr>\n",
       "    <tr>\n",
       "      <th>4</th>\n",
       "      <td>2019-10-01</td>\n",
       "      <td>aerocool</td>\n",
       "      <td>65.88</td>\n",
       "    </tr>\n",
       "    <tr>\n",
       "      <th>5</th>\n",
       "      <td>2019-10-01</td>\n",
       "      <td>aimoto</td>\n",
       "      <td>338.83</td>\n",
       "    </tr>\n",
       "    <tr>\n",
       "      <th>6</th>\n",
       "      <td>2019-10-01</td>\n",
       "      <td>alesis</td>\n",
       "      <td>67.76</td>\n",
       "    </tr>\n",
       "    <tr>\n",
       "      <th>7</th>\n",
       "      <td>2019-10-01</td>\n",
       "      <td>alis</td>\n",
       "      <td>223.89</td>\n",
       "    </tr>\n",
       "    <tr>\n",
       "      <th>8</th>\n",
       "      <td>2019-10-01</td>\n",
       "      <td>alligator</td>\n",
       "      <td>77.22</td>\n",
       "    </tr>\n",
       "    <tr>\n",
       "      <th>9</th>\n",
       "      <td>2019-10-01</td>\n",
       "      <td>almacom</td>\n",
       "      <td>429.03</td>\n",
       "    </tr>\n",
       "    <tr>\n",
       "      <th>10</th>\n",
       "      <td>2019-10-01</td>\n",
       "      <td>alphard</td>\n",
       "      <td>581.74</td>\n",
       "    </tr>\n",
       "    <tr>\n",
       "      <th>11</th>\n",
       "      <td>2019-10-01</td>\n",
       "      <td>alpine</td>\n",
       "      <td>462.04</td>\n",
       "    </tr>\n",
       "    <tr>\n",
       "      <th>12</th>\n",
       "      <td>2019-10-01</td>\n",
       "      <td>alteco</td>\n",
       "      <td>390.75</td>\n",
       "    </tr>\n",
       "    <tr>\n",
       "      <th>13</th>\n",
       "      <td>2019-10-01</td>\n",
       "      <td>amd</td>\n",
       "      <td>318.66</td>\n",
       "    </tr>\n",
       "    <tr>\n",
       "      <th>14</th>\n",
       "      <td>2019-10-01</td>\n",
       "      <td>ansmann</td>\n",
       "      <td>17.99</td>\n",
       "    </tr>\n",
       "    <tr>\n",
       "      <th>15</th>\n",
       "      <td>2019-10-01</td>\n",
       "      <td>anytek</td>\n",
       "      <td>79.80</td>\n",
       "    </tr>\n",
       "    <tr>\n",
       "      <th>16</th>\n",
       "      <td>2019-10-01</td>\n",
       "      <td>aoc</td>\n",
       "      <td>1311.81</td>\n",
       "    </tr>\n",
       "    <tr>\n",
       "      <th>17</th>\n",
       "      <td>2019-10-01</td>\n",
       "      <td>apacer</td>\n",
       "      <td>233.68</td>\n",
       "    </tr>\n",
       "    <tr>\n",
       "      <th>18</th>\n",
       "      <td>2019-10-01</td>\n",
       "      <td>apollo</td>\n",
       "      <td>30.84</td>\n",
       "    </tr>\n",
       "    <tr>\n",
       "      <th>19</th>\n",
       "      <td>2019-10-01</td>\n",
       "      <td>apple</td>\n",
       "      <td>3174659.71</td>\n",
       "    </tr>\n",
       "    <tr>\n",
       "      <th>20</th>\n",
       "      <td>2019-10-01</td>\n",
       "      <td>aqua</td>\n",
       "      <td>256.96</td>\n",
       "    </tr>\n",
       "    <tr>\n",
       "      <th>21</th>\n",
       "      <td>2019-10-01</td>\n",
       "      <td>arg</td>\n",
       "      <td>321.71</td>\n",
       "    </tr>\n",
       "    <tr>\n",
       "      <th>22</th>\n",
       "      <td>2019-10-01</td>\n",
       "      <td>ariston</td>\n",
       "      <td>8900.93</td>\n",
       "    </tr>\n",
       "  </tbody>\n",
       "</table>\n",
       "</div>"
      ],
      "text/plain": [
       "          date      brand       price\n",
       "0   2019-10-01       acer    95733.36\n",
       "1   2019-10-01     adamex     1338.49\n",
       "2   2019-10-01      adata      140.80\n",
       "3   2019-10-01     adidas      312.47\n",
       "4   2019-10-01   aerocool       65.88\n",
       "5   2019-10-01     aimoto      338.83\n",
       "6   2019-10-01     alesis       67.76\n",
       "7   2019-10-01       alis      223.89\n",
       "8   2019-10-01  alligator       77.22\n",
       "9   2019-10-01    almacom      429.03\n",
       "10  2019-10-01    alphard      581.74\n",
       "11  2019-10-01     alpine      462.04\n",
       "12  2019-10-01     alteco      390.75\n",
       "13  2019-10-01        amd      318.66\n",
       "14  2019-10-01    ansmann       17.99\n",
       "15  2019-10-01     anytek       79.80\n",
       "16  2019-10-01        aoc     1311.81\n",
       "17  2019-10-01     apacer      233.68\n",
       "18  2019-10-01     apollo       30.84\n",
       "19  2019-10-01      apple  3174659.71\n",
       "20  2019-10-01       aqua      256.96\n",
       "21  2019-10-01        arg      321.71\n",
       "22  2019-10-01    ariston     8900.93"
      ]
     },
     "execution_count": 11,
     "metadata": {},
     "output_type": "execute_result"
    }
   ],
   "source": [
    "\n",
    "df_t = pd.read_csv(\"brnd_total_sales.csv\")\n",
    "df_t[\"price\"] = df_t[\"price\"].astype(float)\n",
    "df_t.sort_values(\"price\", ascending=False, inplace=True)\n",
    "\n",
    "\n",
    "\n",
    "#df[df[\"brand\"].isin([\"apple\", \"acer\"])].head(11)\n",
    "#df.dtypes\n",
    "df.head(23)\n"
   ]
  },
  {
   "cell_type": "code",
   "execution_count": 33,
   "id": "475cb7dd",
   "metadata": {},
   "outputs": [
    {
     "data": {
      "text/plain": [
       "array(['acer', 'adamex', 'adata', ..., 'syneo', 'trusardy', 'ulker'],\n",
       "      shape=(4081,), dtype=object)"
      ]
     },
     "execution_count": 33,
     "metadata": {},
     "output_type": "execute_result"
    }
   ],
   "source": [
    "df['brand'].unique()"
   ]
  },
  {
   "cell_type": "code",
   "execution_count": null,
   "id": "c50af5be",
   "metadata": {},
   "outputs": [
    {
     "data": {
      "text/plain": [
       "0.030155471371764754"
      ]
     },
     "execution_count": 12,
     "metadata": {},
     "output_type": "execute_result"
    }
   ],
   "source": []
  },
  {
   "cell_type": "code",
   "execution_count": 45,
   "id": "8f1a3a4e",
   "metadata": {},
   "outputs": [
    {
     "name": "stdout",
     "output_type": "stream",
     "text": [
      "Max: 736548.0599999999 Mn: 23.66\n"
     ]
    },
    {
     "data": {
      "text/html": [
       "<div>\n",
       "<style scoped>\n",
       "    .dataframe tbody tr th:only-of-type {\n",
       "        vertical-align: middle;\n",
       "    }\n",
       "\n",
       "    .dataframe tbody tr th {\n",
       "        vertical-align: top;\n",
       "    }\n",
       "\n",
       "    .dataframe thead th {\n",
       "        text-align: right;\n",
       "    }\n",
       "</style>\n",
       "<table border=\"1\" class=\"dataframe\">\n",
       "  <thead>\n",
       "    <tr style=\"text-align: right;\">\n",
       "      <th></th>\n",
       "      <th>price</th>\n",
       "    </tr>\n",
       "  </thead>\n",
       "  <tbody>\n",
       "    <tr>\n",
       "      <th>count</th>\n",
       "      <td>814.000000</td>\n",
       "    </tr>\n",
       "    <tr>\n",
       "      <th>mean</th>\n",
       "      <td>47236.065197</td>\n",
       "    </tr>\n",
       "    <tr>\n",
       "      <th>std</th>\n",
       "      <td>80967.363675</td>\n",
       "    </tr>\n",
       "    <tr>\n",
       "      <th>min</th>\n",
       "      <td>23.660000</td>\n",
       "    </tr>\n",
       "    <tr>\n",
       "      <th>25%</th>\n",
       "      <td>1359.385000</td>\n",
       "    </tr>\n",
       "    <tr>\n",
       "      <th>50%</th>\n",
       "      <td>12519.435000</td>\n",
       "    </tr>\n",
       "    <tr>\n",
       "      <th>75%</th>\n",
       "      <td>67349.327500</td>\n",
       "    </tr>\n",
       "    <tr>\n",
       "      <th>max</th>\n",
       "      <td>736548.060000</td>\n",
       "    </tr>\n",
       "  </tbody>\n",
       "</table>\n",
       "</div>"
      ],
      "text/plain": [
       "               price\n",
       "count     814.000000\n",
       "mean    47236.065197\n",
       "std     80967.363675\n",
       "min        23.660000\n",
       "25%      1359.385000\n",
       "50%     12519.435000\n",
       "75%     67349.327500\n",
       "max    736548.060000"
      ]
     },
     "execution_count": 45,
     "metadata": {},
     "output_type": "execute_result"
    }
   ],
   "source": [
    "\n",
    "\n",
    "df_g = df[df['brand'].isin([\"adata\", \"electrolux\", \"acer\", \"beko\"])]\n",
    "\n",
    "\n",
    "mx = df_g[\"price\"].max()\n",
    "mn =df_g[\"price\"].min()\n",
    "print(f\"Max: {mx} Mn: {mn}\")\n",
    "df_g.describe()"
   ]
  },
  {
   "cell_type": "code",
   "execution_count": 46,
   "id": "9fb40fec",
   "metadata": {},
   "outputs": [
    {
     "data": {
      "text/html": [
       "<div>\n",
       "<style scoped>\n",
       "    .dataframe tbody tr th:only-of-type {\n",
       "        vertical-align: middle;\n",
       "    }\n",
       "\n",
       "    .dataframe tbody tr th {\n",
       "        vertical-align: top;\n",
       "    }\n",
       "\n",
       "    .dataframe thead th {\n",
       "        text-align: right;\n",
       "    }\n",
       "</style>\n",
       "<table border=\"1\" class=\"dataframe\">\n",
       "  <thead>\n",
       "    <tr style=\"text-align: right;\">\n",
       "      <th></th>\n",
       "      <th>date</th>\n",
       "      <th>brand</th>\n",
       "      <th>price</th>\n",
       "    </tr>\n",
       "  </thead>\n",
       "  <tbody>\n",
       "    <tr>\n",
       "      <th>0</th>\n",
       "      <td>2019-10-01</td>\n",
       "      <td>acer</td>\n",
       "      <td>95733.36</td>\n",
       "    </tr>\n",
       "    <tr>\n",
       "      <th>2</th>\n",
       "      <td>2019-10-01</td>\n",
       "      <td>adata</td>\n",
       "      <td>140.80</td>\n",
       "    </tr>\n",
       "    <tr>\n",
       "      <th>47</th>\n",
       "      <td>2019-10-01</td>\n",
       "      <td>beko</td>\n",
       "      <td>19676.90</td>\n",
       "    </tr>\n",
       "    <tr>\n",
       "      <th>105</th>\n",
       "      <td>2019-10-01</td>\n",
       "      <td>electrolux</td>\n",
       "      <td>3214.76</td>\n",
       "    </tr>\n",
       "    <tr>\n",
       "      <th>384</th>\n",
       "      <td>2019-10-02</td>\n",
       "      <td>acer</td>\n",
       "      <td>89642.20</td>\n",
       "    </tr>\n",
       "  </tbody>\n",
       "</table>\n",
       "</div>"
      ],
      "text/plain": [
       "           date       brand     price\n",
       "0    2019-10-01        acer  95733.36\n",
       "2    2019-10-01       adata    140.80\n",
       "47   2019-10-01        beko  19676.90\n",
       "105  2019-10-01  electrolux   3214.76\n",
       "384  2019-10-02        acer  89642.20"
      ]
     },
     "execution_count": 46,
     "metadata": {},
     "output_type": "execute_result"
    }
   ],
   "source": [
    "df_g.head()"
   ]
  },
  {
   "cell_type": "markdown",
   "id": "2a35e9dc",
   "metadata": {},
   "source": [
    "### Grafische Analyse"
   ]
  },
  {
   "cell_type": "code",
   "execution_count": 21,
   "id": "cb03de7e",
   "metadata": {},
   "outputs": [],
   "source": [
    "import plotly.express as px\n",
    "import matplotlib.pyplot as plt"
   ]
  },
  {
   "cell_type": "code",
   "execution_count": 47,
   "id": "b2439967",
   "metadata": {},
   "outputs": [
    {
     "data": {
      "application/vnd.plotly.v1+json": {
       "config": {
        "plotlyServerURL": "https://plot.ly"
       },
       "data": [
        {
         "hovertemplate": "brand=acer<br>date=%{x}<br>price=%{y}<extra></extra>",
         "legendgroup": "acer",
         "line": {
          "color": "#636efa",
          "dash": "solid"
         },
         "marker": {
          "symbol": "circle"
         },
         "mode": "lines",
         "name": "acer",
         "orientation": "v",
         "showlegend": true,
         "type": "scatter",
         "x": [
          "2019-10-01",
          "2019-10-02",
          "2019-10-03",
          "2019-10-04",
          "2019-10-05",
          "2019-10-06",
          "2019-10-07",
          "2019-10-08",
          "2019-10-09",
          "2019-10-10",
          "2019-10-11",
          "2019-10-12",
          "2019-10-13",
          "2019-10-14",
          "2019-10-15",
          "2019-10-16",
          "2019-10-17",
          "2019-10-18",
          "2019-10-19",
          "2019-10-20",
          "2019-10-21",
          "2019-10-22",
          "2019-10-23",
          "2019-10-24",
          "2019-10-25",
          "2019-10-26",
          "2019-10-27",
          "2019-10-28",
          "2019-10-29",
          "2019-10-30",
          "2019-10-31",
          "2019-11-01",
          "2019-11-02",
          "2019-11-03",
          "2019-11-04",
          "2019-11-05",
          "2019-11-06",
          "2019-11-07",
          "2019-11-08",
          "2019-11-09",
          "2019-11-10",
          "2019-11-11",
          "2019-11-12",
          "2019-11-13",
          "2019-11-14",
          "2019-11-16",
          "2019-11-17",
          "2019-11-18",
          "2019-11-19",
          "2019-11-20",
          "2019-11-21",
          "2019-11-22",
          "2019-11-23",
          "2019-11-24",
          "2019-11-25",
          "2019-11-26",
          "2019-11-27",
          "2019-11-28",
          "2019-11-29",
          "2019-11-30",
          "2019-12-01",
          "2019-12-02",
          "2019-12-03",
          "2019-12-04",
          "2019-12-05",
          "2019-12-06",
          "2019-12-07",
          "2019-12-08",
          "2019-12-09",
          "2019-12-10",
          "2019-12-11",
          "2019-12-12",
          "2019-12-13",
          "2019-12-14",
          "2019-12-15",
          "2019-12-16",
          "2019-12-17",
          "2019-12-18",
          "2019-12-19",
          "2019-12-20",
          "2019-12-21",
          "2019-12-22",
          "2019-12-23",
          "2019-12-24",
          "2019-12-25",
          "2019-12-26",
          "2019-12-27",
          "2019-12-28",
          "2019-12-29",
          "2019-12-30",
          "2019-12-31",
          "2020-01-01",
          "2020-01-03",
          "2020-01-04",
          "2020-01-05",
          "2020-01-06",
          "2020-01-07",
          "2020-01-08",
          "2020-01-09",
          "2020-01-10",
          "2020-01-11",
          "2020-01-12",
          "2020-01-13",
          "2020-01-14",
          "2020-01-15",
          "2020-01-16",
          "2020-01-17",
          "2020-01-18",
          "2020-01-19",
          "2020-01-20",
          "2020-01-21",
          "2020-01-22",
          "2020-01-23",
          "2020-01-24",
          "2020-01-25",
          "2020-01-26",
          "2020-01-27",
          "2020-01-28",
          "2020-01-29",
          "2020-01-30",
          "2020-01-31",
          "2020-02-01",
          "2020-02-02",
          "2020-02-03",
          "2020-02-04",
          "2020-02-05",
          "2020-02-06",
          "2020-02-07",
          "2020-02-08",
          "2020-02-09",
          "2020-02-10",
          "2020-02-11",
          "2020-02-12",
          "2020-02-13",
          "2020-02-14",
          "2020-02-15",
          "2020-02-16",
          "2020-02-17",
          "2020-02-18",
          "2020-02-19",
          "2020-02-20",
          "2020-02-21",
          "2020-02-22",
          "2020-02-23",
          "2020-02-24",
          "2020-02-25",
          "2020-02-26",
          "2020-02-27",
          "2020-02-28",
          "2020-02-29",
          "2020-03-01",
          "2020-03-02",
          "2020-03-03",
          "2020-03-04",
          "2020-03-05",
          "2020-03-06",
          "2020-03-07",
          "2020-03-08",
          "2020-03-09",
          "2020-03-10",
          "2020-03-11",
          "2020-03-12",
          "2020-03-13",
          "2020-03-14",
          "2020-03-15",
          "2020-03-16",
          "2020-03-17",
          "2020-03-18",
          "2020-03-19",
          "2020-03-20",
          "2020-03-21",
          "2020-03-22",
          "2020-03-23",
          "2020-03-24",
          "2020-03-25",
          "2020-03-26",
          "2020-03-27",
          "2020-03-28",
          "2020-03-29",
          "2020-03-30",
          "2020-03-31",
          "2020-04-01",
          "2020-04-02",
          "2020-04-03",
          "2020-04-04",
          "2020-04-05",
          "2020-04-06",
          "2020-04-07",
          "2020-04-08",
          "2020-04-09",
          "2020-04-10",
          "2020-04-11",
          "2020-04-12",
          "2020-04-13",
          "2020-04-14",
          "2020-04-15",
          "2020-04-16",
          "2020-04-17",
          "2020-04-18",
          "2020-04-19",
          "2020-04-20",
          "2020-04-22",
          "2020-04-23",
          "2020-04-24",
          "2020-04-25",
          "2020-04-26",
          "2020-04-27",
          "2020-04-28",
          "2020-04-29",
          "2020-04-30"
         ],
         "xaxis": "x",
         "y": {
          "bdata": "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",
          "dtype": "f8"
         },
         "yaxis": "y"
        },
        {
         "hovertemplate": "brand=adata<br>date=%{x}<br>price=%{y}<extra></extra>",
         "legendgroup": "adata",
         "line": {
          "color": "#EF553B",
          "dash": "solid"
         },
         "marker": {
          "symbol": "circle"
         },
         "mode": "lines",
         "name": "adata",
         "orientation": "v",
         "showlegend": true,
         "type": "scatter",
         "x": [
          "2019-10-01",
          "2019-10-03",
          "2019-10-04",
          "2019-10-05",
          "2019-10-07",
          "2019-10-09",
          "2019-10-10",
          "2019-10-11",
          "2019-10-12",
          "2019-10-13",
          "2019-10-14",
          "2019-10-15",
          "2019-10-17",
          "2019-10-18",
          "2019-10-19",
          "2019-10-21",
          "2019-10-22",
          "2019-10-23",
          "2019-10-24",
          "2019-10-25",
          "2019-10-26",
          "2019-10-27",
          "2019-10-29",
          "2019-11-04",
          "2019-11-06",
          "2019-11-08",
          "2019-11-09",
          "2019-11-10",
          "2019-11-11",
          "2019-11-12",
          "2019-11-13",
          "2019-11-16",
          "2019-11-17",
          "2019-11-18",
          "2019-11-20",
          "2019-11-21",
          "2019-11-22",
          "2019-11-25",
          "2019-11-26",
          "2019-11-28",
          "2019-11-29",
          "2019-11-30",
          "2019-12-01",
          "2019-12-02",
          "2019-12-03",
          "2019-12-04",
          "2019-12-05",
          "2019-12-06",
          "2019-12-07",
          "2019-12-09",
          "2019-12-10",
          "2019-12-11",
          "2019-12-12",
          "2019-12-13",
          "2019-12-14",
          "2019-12-15",
          "2019-12-16",
          "2019-12-17",
          "2019-12-18",
          "2019-12-19",
          "2019-12-20",
          "2019-12-21",
          "2019-12-22",
          "2019-12-23",
          "2019-12-24",
          "2019-12-25",
          "2019-12-26",
          "2019-12-27",
          "2019-12-28",
          "2019-12-29",
          "2019-12-30",
          "2019-12-31",
          "2020-01-03",
          "2020-01-04",
          "2020-01-05",
          "2020-01-06",
          "2020-01-07",
          "2020-01-08",
          "2020-01-09",
          "2020-01-10",
          "2020-01-11",
          "2020-01-12",
          "2020-01-13",
          "2020-01-14",
          "2020-01-15",
          "2020-01-16",
          "2020-01-17",
          "2020-01-18",
          "2020-01-19",
          "2020-01-20",
          "2020-01-21",
          "2020-01-22",
          "2020-01-23",
          "2020-01-25",
          "2020-01-26",
          "2020-01-27",
          "2020-01-28",
          "2020-01-29",
          "2020-01-30",
          "2020-01-31",
          "2020-02-01",
          "2020-02-02",
          "2020-02-03",
          "2020-02-04",
          "2020-02-05",
          "2020-02-06",
          "2020-02-07",
          "2020-02-08",
          "2020-02-09",
          "2020-02-10",
          "2020-02-11",
          "2020-02-12",
          "2020-02-13",
          "2020-02-14",
          "2020-02-15",
          "2020-02-16",
          "2020-02-17",
          "2020-02-18",
          "2020-02-19",
          "2020-02-20",
          "2020-02-21",
          "2020-02-22",
          "2020-02-23",
          "2020-02-24",
          "2020-02-25",
          "2020-02-26",
          "2020-02-27",
          "2020-02-28",
          "2020-02-29",
          "2020-03-01",
          "2020-03-02",
          "2020-03-03",
          "2020-03-04",
          "2020-03-05",
          "2020-03-06",
          "2020-03-07",
          "2020-03-08",
          "2020-03-09",
          "2020-03-10",
          "2020-03-11",
          "2020-03-12",
          "2020-03-13",
          "2020-03-14",
          "2020-03-15",
          "2020-03-16",
          "2020-03-17",
          "2020-03-18",
          "2020-03-19",
          "2020-03-20",
          "2020-03-21",
          "2020-03-22",
          "2020-03-23",
          "2020-03-24",
          "2020-03-25",
          "2020-03-26",
          "2020-03-27",
          "2020-03-28",
          "2020-03-29",
          "2020-03-30",
          "2020-04-01",
          "2020-04-02",
          "2020-04-03",
          "2020-04-04",
          "2020-04-05",
          "2020-04-07",
          "2020-04-08",
          "2020-04-09",
          "2020-04-10",
          "2020-04-11",
          "2020-04-12",
          "2020-04-13",
          "2020-04-14",
          "2020-04-15",
          "2020-04-16",
          "2020-04-17",
          "2020-04-18",
          "2020-04-19",
          "2020-04-22",
          "2020-04-23",
          "2020-04-24",
          "2020-04-25",
          "2020-04-26",
          "2020-04-27",
          "2020-04-28",
          "2020-04-29",
          "2020-04-30"
         ],
         "xaxis": "x",
         "y": {
          "bdata": "mpmZmZmZYUC4HoXrUbhNQI/C9ShcT1FApHA9CtfjQUCkcD0K1+NRQLgehetRWE9AKVyPwvWoN0C4HoXrUVhPQEjhehSuJ0dAMzMzMzMbdUApXI/C9ag3QClcj8L1qEdAhetRuB4lZECuR+F6FEZjQClcj8L1qDdAZmZmZmbGVECF61G4HlVjQArXo3A9GmdA9ihcj8LVWkC4HoXrUbhNQLgehetRuE1AKVyPwvWoN0CPwvUoXHduQGZmZmZmxlRAhetRuB51X0ApXI/C9ag3QKRwPQrX40FAKVyPwvWoR0BI4XoUrrdXQLgehetRuE1AuB6F61G4TUDXo3A9CgdbQLgehetRMHpAZmZmZmZGT0AfhetRuJ5VQClcj8L1qDdAH4XrUbieRUAfhetRuJ5FQOJ6FK5HyWRArkfhehQeYUAzMzMzM8txQIXrUbgeCXJAw/UoXI/KfkDXo3A9CkdhQHsUrkfh4mtApHA9CtdLgUBSuB6F691wQKRwPQrXK31Aw/UoXI+GfkB7FK5H4cJjQAAAAAAACG9AUrgeheuNdkDXo3A9Ci9tQJmZmZmZR4BA4XoUrkfhZUD2KFyPwr1pQD4K16NwGXJAhetRuB6rhkApXI/C9ZSIQClcj8L1EH9AXI/C9SgHkEDXo3A9CkWEQClcj8L1XIVAXI/C9Sjij0BxPQrXo6B+QClcj8L1HoxAAAAAAAAijUD2KFyPwg+BQOxRuB6FrpJAcD0K16P+ikDNzMzMzKRzQHsUrkfh3IJAFK5H4XoEUEDNzMzMzFR8QAAAAAAALIhApHA9CtdPd0DhehSuRyFwQJqZmZmZeWBACtejcD2abEDNzMzMzORgQFK4HoXrvXhA7FG4HoVfckBxPQrXo1x3QOF6FK5HzXRAUrgehetZaEDD9Shcj6ptQNejcD0KC3BA16NwPQpXX0AzMzMzM0NlQIXrUbgePXRASOF6FK5HbUAK16NwPaJ9QJqZmZmZCVdAAAAAAABkcUDhehSuRwF9QFK4HoXrWXpAXI/C9Sj8bkC4HoXrUZR5QHsUrkfhQnFAPgrXo3A1c0DhehSuR7l4QJqZmZmZiX1AZmZmZmZSc0AzMzMzM/NcQFK4HoXrUWpA7FG4HoWrdkAAAAAAAFBsQKRwPQrXK2VAAAAAAACIY0BI4XoUrjdgQClcj8L1uHRA4XoUrsfToEA9CtejcCyYQOxRuB6Fh3hAPQrXo3DrlkB7FK5H4RKMQEjhehSuQ41A4XoUrkdtdkDD9Shcj3p7QM3MzMzMXGZAuB6F61Hge0BwPQrXo2hwQEjhehSu33RAhetRuB4tY0DsUbgehetZQML1KFyPImJAmpmZmZk5ZkDMzMzMzJKAQAAAAAAA6GxAFK5H4XrUTED2KFyPwgl3QOxRuB6FJ4ZACtejcD0TlUCF61G4Hi1qQK5H4XoU6nxArkfhehRObUAUrkfhegRQQFK4HoXrmXBAmpmZmZmZa0DXo3A9Cm95QEjhehSuT3dA4XoUrkfVj0CuR+F6FFyFQOxRuB6Fh4NA16NwPQrxhECPwvUoXDd1QFK4HoXrOXNAuB6F61EmhED2KFyPwmVfQIXrUbgetVJAPQrXo3D9X0AK16NwPUJqQK5H4XoU1mtAMzMzMzOdgECkcD0K1+OFQBSuR+F6BFBAhetRuB6ZdUCamZmZmRF2QJqZmZmZKW5ANDMzMzPTdEBmZmZmZm5sQBSuR+F6BFBAzczMzMxMU0AUrkfherh6QIXrUbgeFVBAPQrXo3CtWUApXI/C9dR1QKRwPQrX01VAUrgeheuhcUBSuB6F62l0QArXo3A9PnhASOF6FK5bfkDXo3A9Ch96QFyPwvUogIpAAAAAAABYa0A9CtejcMOCQB+F61G4SnFASOF6FK6FikBmZmZmZkaMQLgehetRcHlA7FG4HoXrbkD2KFyPwkVzQBSuR+F6HodApHA9CtcTfUA+CtejcOGDQD0K16NwvJVA",
          "dtype": "f8"
         },
         "yaxis": "y"
        },
        {
         "hovertemplate": "brand=beko<br>date=%{x}<br>price=%{y}<extra></extra>",
         "legendgroup": "beko",
         "line": {
          "color": "#00cc96",
          "dash": "solid"
         },
         "marker": {
          "symbol": "circle"
         },
         "mode": "lines",
         "name": "beko",
         "orientation": "v",
         "showlegend": true,
         "type": "scatter",
         "x": [
          "2019-10-01",
          "2019-10-02",
          "2019-10-03",
          "2019-10-04",
          "2019-10-05",
          "2019-10-06",
          "2019-10-07",
          "2019-10-08",
          "2019-10-09",
          "2019-10-10",
          "2019-10-11",
          "2019-10-12",
          "2019-10-13",
          "2019-10-14",
          "2019-10-15",
          "2019-10-16",
          "2019-10-17",
          "2019-10-18",
          "2019-10-19",
          "2019-10-20",
          "2019-10-21",
          "2019-10-22",
          "2019-10-23",
          "2019-10-24",
          "2019-10-25",
          "2019-10-26",
          "2019-10-27",
          "2019-10-28",
          "2019-10-29",
          "2019-10-30",
          "2019-10-31",
          "2019-11-01",
          "2019-11-02",
          "2019-11-03",
          "2019-11-04",
          "2019-11-05",
          "2019-11-06",
          "2019-11-07",
          "2019-11-08",
          "2019-11-09",
          "2019-11-10",
          "2019-11-11",
          "2019-11-12",
          "2019-11-13",
          "2019-11-14",
          "2019-11-16",
          "2019-11-17",
          "2019-11-18",
          "2019-11-19",
          "2019-11-20",
          "2019-11-21",
          "2019-11-22",
          "2019-11-23",
          "2019-11-24",
          "2019-11-25",
          "2019-11-26",
          "2019-11-27",
          "2019-11-28",
          "2019-11-29",
          "2019-11-30",
          "2019-12-01",
          "2019-12-02",
          "2019-12-03",
          "2019-12-04",
          "2019-12-05",
          "2019-12-06",
          "2019-12-07",
          "2019-12-08",
          "2019-12-09",
          "2019-12-10",
          "2019-12-11",
          "2019-12-12",
          "2019-12-13",
          "2019-12-14",
          "2019-12-15",
          "2019-12-16",
          "2019-12-17",
          "2019-12-18",
          "2019-12-19",
          "2019-12-20",
          "2019-12-21",
          "2019-12-22",
          "2019-12-23",
          "2019-12-24",
          "2019-12-25",
          "2019-12-26",
          "2019-12-27",
          "2019-12-28",
          "2019-12-29",
          "2019-12-30",
          "2019-12-31",
          "2020-01-01",
          "2020-01-03",
          "2020-01-04",
          "2020-01-05",
          "2020-01-06",
          "2020-01-07",
          "2020-01-08",
          "2020-01-09",
          "2020-01-10",
          "2020-01-11",
          "2020-01-12",
          "2020-01-13",
          "2020-01-14",
          "2020-01-15",
          "2020-01-16",
          "2020-01-17",
          "2020-01-18",
          "2020-01-19",
          "2020-01-20",
          "2020-01-21",
          "2020-01-22",
          "2020-01-23",
          "2020-01-24",
          "2020-01-25",
          "2020-01-26",
          "2020-01-27",
          "2020-01-28",
          "2020-01-29",
          "2020-01-30",
          "2020-01-31",
          "2020-02-01",
          "2020-02-02",
          "2020-02-03",
          "2020-02-04",
          "2020-02-05",
          "2020-02-06",
          "2020-02-07",
          "2020-02-08",
          "2020-02-09",
          "2020-02-10",
          "2020-02-11",
          "2020-02-12",
          "2020-02-13",
          "2020-02-14",
          "2020-02-15",
          "2020-02-16",
          "2020-02-17",
          "2020-02-18",
          "2020-02-19",
          "2020-02-20",
          "2020-02-21",
          "2020-02-22",
          "2020-02-23",
          "2020-02-24",
          "2020-02-25",
          "2020-02-26",
          "2020-02-27",
          "2020-02-28",
          "2020-02-29",
          "2020-03-01",
          "2020-03-02",
          "2020-03-03",
          "2020-03-04",
          "2020-03-05",
          "2020-03-06",
          "2020-03-07",
          "2020-03-08",
          "2020-03-09",
          "2020-03-10",
          "2020-03-11",
          "2020-03-12",
          "2020-03-13",
          "2020-03-14",
          "2020-03-15",
          "2020-03-16",
          "2020-03-17",
          "2020-03-18",
          "2020-03-19",
          "2020-03-20",
          "2020-03-21",
          "2020-03-22",
          "2020-03-23",
          "2020-03-24",
          "2020-03-25",
          "2020-03-26",
          "2020-03-27",
          "2020-03-28",
          "2020-03-29",
          "2020-03-30",
          "2020-03-31",
          "2020-04-01",
          "2020-04-02",
          "2020-04-03",
          "2020-04-04",
          "2020-04-05",
          "2020-04-06",
          "2020-04-07",
          "2020-04-08",
          "2020-04-09",
          "2020-04-10",
          "2020-04-11",
          "2020-04-12",
          "2020-04-13",
          "2020-04-14",
          "2020-04-15",
          "2020-04-16",
          "2020-04-17",
          "2020-04-18",
          "2020-04-19",
          "2020-04-22",
          "2020-04-23",
          "2020-04-24",
          "2020-04-25",
          "2020-04-26",
          "2020-04-27",
          "2020-04-28",
          "2020-04-29",
          "2020-04-30"
         ],
         "xaxis": "x",
         "y": {
          "bdata": "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",
          "dtype": "f8"
         },
         "yaxis": "y"
        },
        {
         "hovertemplate": "brand=electrolux<br>date=%{x}<br>price=%{y}<extra></extra>",
         "legendgroup": "electrolux",
         "line": {
          "color": "#ab63fa",
          "dash": "solid"
         },
         "marker": {
          "symbol": "circle"
         },
         "mode": "lines",
         "name": "electrolux",
         "orientation": "v",
         "showlegend": true,
         "type": "scatter",
         "x": [
          "2019-10-01",
          "2019-10-02",
          "2019-10-03",
          "2019-10-04",
          "2019-10-05",
          "2019-10-06",
          "2019-10-07",
          "2019-10-08",
          "2019-10-09",
          "2019-10-10",
          "2019-10-11",
          "2019-10-12",
          "2019-10-13",
          "2019-10-14",
          "2019-10-15",
          "2019-10-16",
          "2019-10-17",
          "2019-10-18",
          "2019-10-19",
          "2019-10-20",
          "2019-10-21",
          "2019-10-22",
          "2019-10-23",
          "2019-10-24",
          "2019-10-25",
          "2019-10-26",
          "2019-10-27",
          "2019-10-28",
          "2019-10-29",
          "2019-10-30",
          "2019-10-31",
          "2019-11-01",
          "2019-11-02",
          "2019-11-03",
          "2019-11-04",
          "2019-11-05",
          "2019-11-06",
          "2019-11-07",
          "2019-11-08",
          "2019-11-09",
          "2019-11-10",
          "2019-11-11",
          "2019-11-12",
          "2019-11-13",
          "2019-11-14",
          "2019-11-16",
          "2019-11-17",
          "2019-11-18",
          "2019-11-19",
          "2019-11-20",
          "2019-11-21",
          "2019-11-22",
          "2019-11-23",
          "2019-11-24",
          "2019-11-25",
          "2019-11-26",
          "2019-11-27",
          "2019-11-28",
          "2019-11-29",
          "2019-11-30",
          "2019-12-01",
          "2019-12-02",
          "2019-12-03",
          "2019-12-04",
          "2019-12-05",
          "2019-12-06",
          "2019-12-07",
          "2019-12-08",
          "2019-12-09",
          "2019-12-10",
          "2019-12-11",
          "2019-12-12",
          "2019-12-13",
          "2019-12-14",
          "2019-12-15",
          "2019-12-16",
          "2019-12-17",
          "2019-12-18",
          "2019-12-19",
          "2019-12-20",
          "2019-12-21",
          "2019-12-22",
          "2019-12-23",
          "2019-12-24",
          "2019-12-25",
          "2019-12-26",
          "2019-12-27",
          "2019-12-28",
          "2019-12-29",
          "2019-12-30",
          "2019-12-31",
          "2020-01-01",
          "2020-01-03",
          "2020-01-04",
          "2020-01-05",
          "2020-01-06",
          "2020-01-07",
          "2020-01-08",
          "2020-01-09",
          "2020-01-10",
          "2020-01-11",
          "2020-01-12",
          "2020-01-13",
          "2020-01-14",
          "2020-01-15",
          "2020-01-16",
          "2020-01-17",
          "2020-01-18",
          "2020-01-19",
          "2020-01-20",
          "2020-01-21",
          "2020-01-22",
          "2020-01-23",
          "2020-01-24",
          "2020-01-25",
          "2020-01-26",
          "2020-01-27",
          "2020-01-28",
          "2020-01-29",
          "2020-01-30",
          "2020-01-31",
          "2020-02-01",
          "2020-02-02",
          "2020-02-03",
          "2020-02-04",
          "2020-02-05",
          "2020-02-06",
          "2020-02-07",
          "2020-02-08",
          "2020-02-09",
          "2020-02-10",
          "2020-02-11",
          "2020-02-12",
          "2020-02-13",
          "2020-02-14",
          "2020-02-15",
          "2020-02-16",
          "2020-02-17",
          "2020-02-18",
          "2020-02-19",
          "2020-02-20",
          "2020-02-21",
          "2020-02-22",
          "2020-02-23",
          "2020-02-24",
          "2020-02-25",
          "2020-02-26",
          "2020-02-27",
          "2020-02-28",
          "2020-02-29",
          "2020-03-01",
          "2020-03-02",
          "2020-03-03",
          "2020-03-04",
          "2020-03-05",
          "2020-03-06",
          "2020-03-07",
          "2020-03-08",
          "2020-03-09",
          "2020-03-10",
          "2020-03-11",
          "2020-03-12",
          "2020-03-13",
          "2020-03-14",
          "2020-03-15",
          "2020-03-16",
          "2020-03-17",
          "2020-03-18",
          "2020-03-19",
          "2020-03-20",
          "2020-03-21",
          "2020-03-22",
          "2020-03-23",
          "2020-03-24",
          "2020-03-25",
          "2020-03-26",
          "2020-03-27",
          "2020-03-28",
          "2020-03-29",
          "2020-03-30",
          "2020-03-31",
          "2020-04-01",
          "2020-04-02",
          "2020-04-03",
          "2020-04-04",
          "2020-04-05",
          "2020-04-06",
          "2020-04-07",
          "2020-04-08",
          "2020-04-09",
          "2020-04-10",
          "2020-04-11",
          "2020-04-12",
          "2020-04-13",
          "2020-04-14",
          "2020-04-15",
          "2020-04-16",
          "2020-04-17",
          "2020-04-18",
          "2020-04-19",
          "2020-04-22",
          "2020-04-23",
          "2020-04-24",
          "2020-04-25",
          "2020-04-26",
          "2020-04-27",
          "2020-04-28",
          "2020-04-29",
          "2020-04-30"
         ],
         "xaxis": "x",
         "y": {
          "bdata": "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",
          "dtype": "f8"
         },
         "yaxis": "y"
        }
       ],
       "layout": {
        "legend": {
         "title": {
          "text": "brand"
         },
         "tracegroupgap": 0
        },
        "margin": {
         "t": 60
        },
        "template": {
         "data": {
          "bar": [
           {
            "error_x": {
             "color": "#2a3f5f"
            },
            "error_y": {
             "color": "#2a3f5f"
            },
            "marker": {
             "line": {
              "color": "#E5ECF6",
              "width": 0.5
             },
             "pattern": {
              "fillmode": "overlay",
              "size": 10,
              "solidity": 0.2
             }
            },
            "type": "bar"
           }
          ],
          "barpolar": [
           {
            "marker": {
             "line": {
              "color": "#E5ECF6",
              "width": 0.5
             },
             "pattern": {
              "fillmode": "overlay",
              "size": 10,
              "solidity": 0.2
             }
            },
            "type": "barpolar"
           }
          ],
          "carpet": [
           {
            "aaxis": {
             "endlinecolor": "#2a3f5f",
             "gridcolor": "white",
             "linecolor": "white",
             "minorgridcolor": "white",
             "startlinecolor": "#2a3f5f"
            },
            "baxis": {
             "endlinecolor": "#2a3f5f",
             "gridcolor": "white",
             "linecolor": "white",
             "minorgridcolor": "white",
             "startlinecolor": "#2a3f5f"
            },
            "type": "carpet"
           }
          ],
          "choropleth": [
           {
            "colorbar": {
             "outlinewidth": 0,
             "ticks": ""
            },
            "type": "choropleth"
           }
          ],
          "contour": [
           {
            "colorbar": {
             "outlinewidth": 0,
             "ticks": ""
            },
            "colorscale": [
             [
              0,
              "#0d0887"
             ],
             [
              0.1111111111111111,
              "#46039f"
             ],
             [
              0.2222222222222222,
              "#7201a8"
             ],
             [
              0.3333333333333333,
              "#9c179e"
             ],
             [
              0.4444444444444444,
              "#bd3786"
             ],
             [
              0.5555555555555556,
              "#d8576b"
             ],
             [
              0.6666666666666666,
              "#ed7953"
             ],
             [
              0.7777777777777778,
              "#fb9f3a"
             ],
             [
              0.8888888888888888,
              "#fdca26"
             ],
             [
              1,
              "#f0f921"
             ]
            ],
            "type": "contour"
           }
          ],
          "contourcarpet": [
           {
            "colorbar": {
             "outlinewidth": 0,
             "ticks": ""
            },
            "type": "contourcarpet"
           }
          ],
          "heatmap": [
           {
            "colorbar": {
             "outlinewidth": 0,
             "ticks": ""
            },
            "colorscale": [
             [
              0,
              "#0d0887"
             ],
             [
              0.1111111111111111,
              "#46039f"
             ],
             [
              0.2222222222222222,
              "#7201a8"
             ],
             [
              0.3333333333333333,
              "#9c179e"
             ],
             [
              0.4444444444444444,
              "#bd3786"
             ],
             [
              0.5555555555555556,
              "#d8576b"
             ],
             [
              0.6666666666666666,
              "#ed7953"
             ],
             [
              0.7777777777777778,
              "#fb9f3a"
             ],
             [
              0.8888888888888888,
              "#fdca26"
             ],
             [
              1,
              "#f0f921"
             ]
            ],
            "type": "heatmap"
           }
          ],
          "histogram": [
           {
            "marker": {
             "pattern": {
              "fillmode": "overlay",
              "size": 10,
              "solidity": 0.2
             }
            },
            "type": "histogram"
           }
          ],
          "histogram2d": [
           {
            "colorbar": {
             "outlinewidth": 0,
             "ticks": ""
            },
            "colorscale": [
             [
              0,
              "#0d0887"
             ],
             [
              0.1111111111111111,
              "#46039f"
             ],
             [
              0.2222222222222222,
              "#7201a8"
             ],
             [
              0.3333333333333333,
              "#9c179e"
             ],
             [
              0.4444444444444444,
              "#bd3786"
             ],
             [
              0.5555555555555556,
              "#d8576b"
             ],
             [
              0.6666666666666666,
              "#ed7953"
             ],
             [
              0.7777777777777778,
              "#fb9f3a"
             ],
             [
              0.8888888888888888,
              "#fdca26"
             ],
             [
              1,
              "#f0f921"
             ]
            ],
            "type": "histogram2d"
           }
          ],
          "histogram2dcontour": [
           {
            "colorbar": {
             "outlinewidth": 0,
             "ticks": ""
            },
            "colorscale": [
             [
              0,
              "#0d0887"
             ],
             [
              0.1111111111111111,
              "#46039f"
             ],
             [
              0.2222222222222222,
              "#7201a8"
             ],
             [
              0.3333333333333333,
              "#9c179e"
             ],
             [
              0.4444444444444444,
              "#bd3786"
             ],
             [
              0.5555555555555556,
              "#d8576b"
             ],
             [
              0.6666666666666666,
              "#ed7953"
             ],
             [
              0.7777777777777778,
              "#fb9f3a"
             ],
             [
              0.8888888888888888,
              "#fdca26"
             ],
             [
              1,
              "#f0f921"
             ]
            ],
            "type": "histogram2dcontour"
           }
          ],
          "mesh3d": [
           {
            "colorbar": {
             "outlinewidth": 0,
             "ticks": ""
            },
            "type": "mesh3d"
           }
          ],
          "parcoords": [
           {
            "line": {
             "colorbar": {
              "outlinewidth": 0,
              "ticks": ""
             }
            },
            "type": "parcoords"
           }
          ],
          "pie": [
           {
            "automargin": true,
            "type": "pie"
           }
          ],
          "scatter": [
           {
            "fillpattern": {
             "fillmode": "overlay",
             "size": 10,
             "solidity": 0.2
            },
            "type": "scatter"
           }
          ],
          "scatter3d": [
           {
            "line": {
             "colorbar": {
              "outlinewidth": 0,
              "ticks": ""
             }
            },
            "marker": {
             "colorbar": {
              "outlinewidth": 0,
              "ticks": ""
             }
            },
            "type": "scatter3d"
           }
          ],
          "scattercarpet": [
           {
            "marker": {
             "colorbar": {
              "outlinewidth": 0,
              "ticks": ""
             }
            },
            "type": "scattercarpet"
           }
          ],
          "scattergeo": [
           {
            "marker": {
             "colorbar": {
              "outlinewidth": 0,
              "ticks": ""
             }
            },
            "type": "scattergeo"
           }
          ],
          "scattergl": [
           {
            "marker": {
             "colorbar": {
              "outlinewidth": 0,
              "ticks": ""
             }
            },
            "type": "scattergl"
           }
          ],
          "scattermap": [
           {
            "marker": {
             "colorbar": {
              "outlinewidth": 0,
              "ticks": ""
             }
            },
            "type": "scattermap"
           }
          ],
          "scattermapbox": [
           {
            "marker": {
             "colorbar": {
              "outlinewidth": 0,
              "ticks": ""
             }
            },
            "type": "scattermapbox"
           }
          ],
          "scatterpolar": [
           {
            "marker": {
             "colorbar": {
              "outlinewidth": 0,
              "ticks": ""
             }
            },
            "type": "scatterpolar"
           }
          ],
          "scatterpolargl": [
           {
            "marker": {
             "colorbar": {
              "outlinewidth": 0,
              "ticks": ""
             }
            },
            "type": "scatterpolargl"
           }
          ],
          "scatterternary": [
           {
            "marker": {
             "colorbar": {
              "outlinewidth": 0,
              "ticks": ""
             }
            },
            "type": "scatterternary"
           }
          ],
          "surface": [
           {
            "colorbar": {
             "outlinewidth": 0,
             "ticks": ""
            },
            "colorscale": [
             [
              0,
              "#0d0887"
             ],
             [
              0.1111111111111111,
              "#46039f"
             ],
             [
              0.2222222222222222,
              "#7201a8"
             ],
             [
              0.3333333333333333,
              "#9c179e"
             ],
             [
              0.4444444444444444,
              "#bd3786"
             ],
             [
              0.5555555555555556,
              "#d8576b"
             ],
             [
              0.6666666666666666,
              "#ed7953"
             ],
             [
              0.7777777777777778,
              "#fb9f3a"
             ],
             [
              0.8888888888888888,
              "#fdca26"
             ],
             [
              1,
              "#f0f921"
             ]
            ],
            "type": "surface"
           }
          ],
          "table": [
           {
            "cells": {
             "fill": {
              "color": "#EBF0F8"
             },
             "line": {
              "color": "white"
             }
            },
            "header": {
             "fill": {
              "color": "#C8D4E3"
             },
             "line": {
              "color": "white"
             }
            },
            "type": "table"
           }
          ]
         },
         "layout": {
          "annotationdefaults": {
           "arrowcolor": "#2a3f5f",
           "arrowhead": 0,
           "arrowwidth": 1
          },
          "autotypenumbers": "strict",
          "coloraxis": {
           "colorbar": {
            "outlinewidth": 0,
            "ticks": ""
           }
          },
          "colorscale": {
           "diverging": [
            [
             0,
             "#8e0152"
            ],
            [
             0.1,
             "#c51b7d"
            ],
            [
             0.2,
             "#de77ae"
            ],
            [
             0.3,
             "#f1b6da"
            ],
            [
             0.4,
             "#fde0ef"
            ],
            [
             0.5,
             "#f7f7f7"
            ],
            [
             0.6,
             "#e6f5d0"
            ],
            [
             0.7,
             "#b8e186"
            ],
            [
             0.8,
             "#7fbc41"
            ],
            [
             0.9,
             "#4d9221"
            ],
            [
             1,
             "#276419"
            ]
           ],
           "sequential": [
            [
             0,
             "#0d0887"
            ],
            [
             0.1111111111111111,
             "#46039f"
            ],
            [
             0.2222222222222222,
             "#7201a8"
            ],
            [
             0.3333333333333333,
             "#9c179e"
            ],
            [
             0.4444444444444444,
             "#bd3786"
            ],
            [
             0.5555555555555556,
             "#d8576b"
            ],
            [
             0.6666666666666666,
             "#ed7953"
            ],
            [
             0.7777777777777778,
             "#fb9f3a"
            ],
            [
             0.8888888888888888,
             "#fdca26"
            ],
            [
             1,
             "#f0f921"
            ]
           ],
           "sequentialminus": [
            [
             0,
             "#0d0887"
            ],
            [
             0.1111111111111111,
             "#46039f"
            ],
            [
             0.2222222222222222,
             "#7201a8"
            ],
            [
             0.3333333333333333,
             "#9c179e"
            ],
            [
             0.4444444444444444,
             "#bd3786"
            ],
            [
             0.5555555555555556,
             "#d8576b"
            ],
            [
             0.6666666666666666,
             "#ed7953"
            ],
            [
             0.7777777777777778,
             "#fb9f3a"
            ],
            [
             0.8888888888888888,
             "#fdca26"
            ],
            [
             1,
             "#f0f921"
            ]
           ]
          },
          "colorway": [
           "#636efa",
           "#EF553B",
           "#00cc96",
           "#ab63fa",
           "#FFA15A",
           "#19d3f3",
           "#FF6692",
           "#B6E880",
           "#FF97FF",
           "#FECB52"
          ],
          "font": {
           "color": "#2a3f5f"
          },
          "geo": {
           "bgcolor": "white",
           "lakecolor": "white",
           "landcolor": "#E5ECF6",
           "showlakes": true,
           "showland": true,
           "subunitcolor": "white"
          },
          "hoverlabel": {
           "align": "left"
          },
          "hovermode": "closest",
          "mapbox": {
           "style": "light"
          },
          "paper_bgcolor": "white",
          "plot_bgcolor": "#E5ECF6",
          "polar": {
           "angularaxis": {
            "gridcolor": "white",
            "linecolor": "white",
            "ticks": ""
           },
           "bgcolor": "#E5ECF6",
           "radialaxis": {
            "gridcolor": "white",
            "linecolor": "white",
            "ticks": ""
           }
          },
          "scene": {
           "xaxis": {
            "backgroundcolor": "#E5ECF6",
            "gridcolor": "white",
            "gridwidth": 2,
            "linecolor": "white",
            "showbackground": true,
            "ticks": "",
            "zerolinecolor": "white"
           },
           "yaxis": {
            "backgroundcolor": "#E5ECF6",
            "gridcolor": "white",
            "gridwidth": 2,
            "linecolor": "white",
            "showbackground": true,
            "ticks": "",
            "zerolinecolor": "white"
           },
           "zaxis": {
            "backgroundcolor": "#E5ECF6",
            "gridcolor": "white",
            "gridwidth": 2,
            "linecolor": "white",
            "showbackground": true,
            "ticks": "",
            "zerolinecolor": "white"
           }
          },
          "shapedefaults": {
           "line": {
            "color": "#2a3f5f"
           }
          },
          "ternary": {
           "aaxis": {
            "gridcolor": "white",
            "linecolor": "white",
            "ticks": ""
           },
           "baxis": {
            "gridcolor": "white",
            "linecolor": "white",
            "ticks": ""
           },
           "bgcolor": "#E5ECF6",
           "caxis": {
            "gridcolor": "white",
            "linecolor": "white",
            "ticks": ""
           }
          },
          "title": {
           "x": 0.05
          },
          "xaxis": {
           "automargin": true,
           "gridcolor": "white",
           "linecolor": "white",
           "ticks": "",
           "title": {
            "standoff": 15
           },
           "zerolinecolor": "white",
           "zerolinewidth": 2
          },
          "yaxis": {
           "automargin": true,
           "gridcolor": "white",
           "linecolor": "white",
           "ticks": "",
           "title": {
            "standoff": 15
           },
           "zerolinecolor": "white",
           "zerolinewidth": 2
          }
         }
        },
        "xaxis": {
         "anchor": "y",
         "domain": [
          0,
          1
         ],
         "title": {
          "text": "date"
         }
        },
        "yaxis": {
         "anchor": "x",
         "domain": [
          0,
          1
         ],
         "title": {
          "text": "price"
         }
        }
       }
      }
     },
     "metadata": {},
     "output_type": "display_data"
    }
   ],
   "source": [
    "px.line(data_frame=df_g, x=\"date\", y=\"price\", color=\"brand\")\n",
    "#plt.show()"
   ]
  },
  {
   "cell_type": "markdown",
   "id": "e3a51800",
   "metadata": {},
   "source": [
    "## Data explorer"
   ]
  },
  {
   "cell_type": "code",
   "execution_count": 4,
   "id": "225ef045",
   "metadata": {},
   "outputs": [
    {
     "data": {
      "text/html": [
       "<div>\n",
       "<style scoped>\n",
       "    .dataframe tbody tr th:only-of-type {\n",
       "        vertical-align: middle;\n",
       "    }\n",
       "\n",
       "    .dataframe tbody tr th {\n",
       "        vertical-align: top;\n",
       "    }\n",
       "\n",
       "    .dataframe thead th {\n",
       "        text-align: right;\n",
       "    }\n",
       "</style>\n",
       "<table border=\"1\" class=\"dataframe\">\n",
       "  <thead>\n",
       "    <tr style=\"text-align: right;\">\n",
       "      <th></th>\n",
       "      <th>id</th>\n",
       "      <th>brand_name</th>\n",
       "    </tr>\n",
       "  </thead>\n",
       "  <tbody>\n",
       "    <tr>\n",
       "      <th>902</th>\n",
       "      <td>1901</td>\n",
       "      <td>bridgestone</td>\n",
       "    </tr>\n",
       "    <tr>\n",
       "      <th>903</th>\n",
       "      <td>1902</td>\n",
       "      <td>briknik</td>\n",
       "    </tr>\n",
       "    <tr>\n",
       "      <th>904</th>\n",
       "      <td>1903</td>\n",
       "      <td>brisk</td>\n",
       "    </tr>\n",
       "    <tr>\n",
       "      <th>905</th>\n",
       "      <td>1904</td>\n",
       "      <td>brita</td>\n",
       "    </tr>\n",
       "    <tr>\n",
       "      <th>906</th>\n",
       "      <td>1905</td>\n",
       "      <td>britax</td>\n",
       "    </tr>\n",
       "    <tr>\n",
       "      <th>907</th>\n",
       "      <td>1906</td>\n",
       "      <td>britaxroemer</td>\n",
       "    </tr>\n",
       "    <tr>\n",
       "      <th>908</th>\n",
       "      <td>1907</td>\n",
       "      <td>britaxromer</td>\n",
       "    </tr>\n",
       "    <tr>\n",
       "      <th>909</th>\n",
       "      <td>1908</td>\n",
       "      <td>britneyspears</td>\n",
       "    </tr>\n",
       "    <tr>\n",
       "      <th>910</th>\n",
       "      <td>1909</td>\n",
       "      <td>britop</td>\n",
       "    </tr>\n",
       "    <tr>\n",
       "      <th>911</th>\n",
       "      <td>1910</td>\n",
       "      <td>briverre</td>\n",
       "    </tr>\n",
       "    <tr>\n",
       "      <th>912</th>\n",
       "      <td>1911</td>\n",
       "      <td>brizoll</td>\n",
       "    </tr>\n",
       "    <tr>\n",
       "      <th>913</th>\n",
       "      <td>1912</td>\n",
       "      <td>brkpress</td>\n",
       "    </tr>\n",
       "    <tr>\n",
       "      <th>914</th>\n",
       "      <td>1913</td>\n",
       "      <td>bro</td>\n",
       "    </tr>\n",
       "    <tr>\n",
       "      <th>915</th>\n",
       "      <td>1914</td>\n",
       "      <td>brocoli</td>\n",
       "    </tr>\n",
       "    <tr>\n",
       "      <th>916</th>\n",
       "      <td>1915</td>\n",
       "      <td>bronzallure</td>\n",
       "    </tr>\n",
       "    <tr>\n",
       "      <th>917</th>\n",
       "      <td>1916</td>\n",
       "      <td>broomer</td>\n",
       "    </tr>\n",
       "    <tr>\n",
       "      <th>918</th>\n",
       "      <td>1917</td>\n",
       "      <td>brother</td>\n",
       "    </tr>\n",
       "    <tr>\n",
       "      <th>919</th>\n",
       "      <td>1918</td>\n",
       "      <td>bruder</td>\n",
       "    </tr>\n",
       "    <tr>\n",
       "      <th>920</th>\n",
       "      <td>1919</td>\n",
       "      <td>brumer</td>\n",
       "    </tr>\n",
       "    <tr>\n",
       "      <th>921</th>\n",
       "      <td>1920</td>\n",
       "      <td>bruynzeel</td>\n",
       "    </tr>\n",
       "    <tr>\n",
       "      <th>922</th>\n",
       "      <td>1921</td>\n",
       "      <td>brw</td>\n",
       "    </tr>\n",
       "    <tr>\n",
       "      <th>923</th>\n",
       "      <td>1922</td>\n",
       "      <td>brynzeel</td>\n",
       "    </tr>\n",
       "    <tr>\n",
       "      <th>924</th>\n",
       "      <td>1923</td>\n",
       "      <td>bsa-wheels</td>\n",
       "    </tr>\n",
       "  </tbody>\n",
       "</table>\n",
       "</div>"
      ],
      "text/plain": [
       "       id     brand_name\n",
       "902  1901    bridgestone\n",
       "903  1902        briknik\n",
       "904  1903          brisk\n",
       "905  1904          brita\n",
       "906  1905         britax\n",
       "907  1906   britaxroemer\n",
       "908  1907    britaxromer\n",
       "909  1908  britneyspears\n",
       "910  1909         britop\n",
       "911  1910       briverre\n",
       "912  1911        brizoll\n",
       "913  1912       brkpress\n",
       "914  1913            bro\n",
       "915  1914        brocoli\n",
       "916  1915    bronzallure\n",
       "917  1916        broomer\n",
       "918  1917        brother\n",
       "919  1918         bruder\n",
       "920  1919         brumer\n",
       "921  1920      bruynzeel\n",
       "922  1921            brw\n",
       "923  1922       brynzeel\n",
       "924  1923     bsa-wheels"
      ]
     },
     "execution_count": 4,
     "metadata": {},
     "output_type": "execute_result"
    }
   ],
   "source": [
    "import pandas as pd\n",
    "\n",
    "file = \"brandz.csv\"\n",
    "df = pd.read_csv(f\"Data/Norm/{file}\")\n",
    "df[df[\"id\"]>1900].head(23)"
   ]
  }
 ],
 "metadata": {
  "kernelspec": {
   "display_name": ".venv (3.13.2)",
   "language": "python",
   "name": "python3"
  },
  "language_info": {
   "codemirror_mode": {
    "name": "ipython",
    "version": 3
   },
   "file_extension": ".py",
   "mimetype": "text/x-python",
   "name": "python",
   "nbconvert_exporter": "python",
   "pygments_lexer": "ipython3",
   "version": "3.13.2"
  }
 },
 "nbformat": 4,
 "nbformat_minor": 5
}
