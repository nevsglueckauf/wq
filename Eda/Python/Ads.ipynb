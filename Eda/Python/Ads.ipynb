{
 "cells": [
  {
   "cell_type": "markdown",
   "id": "cb9fcb73",
   "metadata": {},
   "source": [
    "### Ads Analyse"
   ]
  },
  {
   "cell_type": "code",
   "execution_count": 6,
   "id": "317fdbfc",
   "metadata": {},
   "outputs": [],
   "source": [
    "# Importe\n",
    "import matplotlib.pyplot as plt\n",
    "import seaborn as sns\n",
    "import pandas as pd\n",
    "\n",
    "meta = pd.read_csv(\"../../Data/Sanitized/Meta.csv\")\n",
    "\n",
    "\n",
    "alpha = pd.read_csv(\"../../Data/Sanitized/Alpha.csv\")"
   ]
  },
  {
   "cell_type": "code",
   "execution_count": 7,
   "id": "a4c22608",
   "metadata": {},
   "outputs": [
    {
     "data": {
      "text/plain": [
       "Name der Kampagne             object\n",
       "Tag                           object\n",
       "Auslieferungsstatus           object\n",
       "Auslieferungsebene            object\n",
       "Reichweite                     int64\n",
       "Impressionen                   int64\n",
       "Frequenz                     float64\n",
       "Ergebnistyp                   object\n",
       "Ergebnisse                     int64\n",
       "Ausgegebener Betrag (EUR)    float64\n",
       "Kosten pro Ergebnis          float64\n",
       "Start                        float64\n",
       "Ende                         float64\n",
       "Berichtsstart                 object\n",
       "Berichtsende                  object\n",
       "dtype: object"
      ]
     },
     "execution_count": 7,
     "metadata": {},
     "output_type": "execute_result"
    }
   ],
   "source": [
    "meta.head(11)\n",
    "meta.dtypes"
   ]
  },
  {
   "cell_type": "code",
   "execution_count": 10,
   "id": "bf67ee14",
   "metadata": {},
   "outputs": [
    {
     "data": {
      "text/plain": [
       "Tag                object\n",
       "Kampagne           object\n",
       "Impressionen      float64\n",
       "Klicks              int64\n",
       "Währungscode       object\n",
       "Kosten            float64\n",
       "CTR                object\n",
       "Durchschn. CPC     object\n",
       "dtype: object"
      ]
     },
     "execution_count": 10,
     "metadata": {},
     "output_type": "execute_result"
    }
   ],
   "source": [
    "alpha.head()\n",
    "alpha.dtypes"
   ]
  },
  {
   "cell_type": "code",
   "execution_count": 12,
   "id": "d8c57154",
   "metadata": {},
   "outputs": [
    {
     "data": {
      "text/plain": [
       "[np.float64(187.16), np.float64(190.76999999999998)]"
      ]
     },
     "execution_count": 12,
     "metadata": {},
     "output_type": "execute_result"
    }
   ],
   "source": [
    "ac = alpha.Kosten.sum()\n",
    "mc = meta['Ausgegebener Betrag (EUR)'].sum()\n",
    "[ac, mc]"
   ]
  },
  {
   "cell_type": "code",
   "execution_count": 26,
   "id": "057b1a6b",
   "metadata": {},
   "outputs": [],
   "source": [
    "meta['Datum'] = pd.to_datetime(meta['Berichtsstart'], format=\"%Y-%m-%d\")\n",
    "meta.dtypes\n",
    "meta.to_csv(\"../../Data/Sanitized/Meta_s.csv\", index=False)"
   ]
  },
  {
   "cell_type": "code",
   "execution_count": 19,
   "id": "3019def4",
   "metadata": {},
   "outputs": [],
   "source": [
    "alpha['Datum'] = pd.to_datetime(alpha['Tag'], format=\"%d.%m.%Y\" )\n",
    "alpha.dtypes\n",
    "alpha.to_csv(\"../../Data/Sanitized/Alpha_s.csv\", index=False)"
   ]
  }
 ],
 "metadata": {
  "kernelspec": {
   "display_name": ".venv (3.13.2)",
   "language": "python",
   "name": "python3"
  },
  "language_info": {
   "codemirror_mode": {
    "name": "ipython",
    "version": 3
   },
   "file_extension": ".py",
   "mimetype": "text/x-python",
   "name": "python",
   "nbconvert_exporter": "python",
   "pygments_lexer": "ipython3",
   "version": "3.13.2"
  }
 },
 "nbformat": 4,
 "nbformat_minor": 5
}
