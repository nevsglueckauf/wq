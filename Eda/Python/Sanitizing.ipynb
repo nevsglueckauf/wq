{
 "cells": [
  {
   "cell_type": "markdown",
   "id": "aeec8299",
   "metadata": {},
   "source": [
    "## Datenbereinigung\n",
    "\n",
    "Die Spaltenbezeichnungen werden umbenannt für ein einfacheres Handling. Das Mapping findet sich in <kbd>dd.py</kbd>"
   ]
  },
  {
   "cell_type": "code",
   "execution_count": 2,
   "id": "1bed0362",
   "metadata": {},
   "outputs": [
    {
     "name": "stdout",
     "output_type": "stream",
     "text": [
      "{'sess_ctry': 'Sitzungsland', 'sess_loc': 'Sitzungsort', 'datum': 'Monat', 'sug_platform': 'Empfehlungsplattform', 'landing_uri': 'Landing-Page-URL', 'session_duration': 'Durchschnittliche Sitzungsdauer', 'pages_per_sess': 'Seitenaufrufe pro Sitzung', 'jump_offs': 'Absprünge', 'sess_cart_add': 'Sitzungen, in denen Artikel zum Warenkorb hinzugefügt wurden', 'sess_co': 'Sitzungen, bei denen der Checkout erreicht wurde', 'sess_co_done': 'Sitzungen, bei denen der Checkout abgeschlossen wurde', 'sessions': 'Sitzungen'}\n"
     ]
    }
   ],
   "source": [
    "nw = [\"sess_ctry\",\"sess_loc\",\"datum\",\"sug_platform\",\"landing_uri\",\"session_duration\",\"pages_per_sess\",\"jump_offs\",\"sess_cart_add\",\"sess_co\",\"sess_co_done\",\"sessions\"]\n",
    "og = [\"Sitzungsland\",\"Sitzungsort\",\"Monat\",\"Empfehlungsplattform\",\"Landing-Page-URL\",\"Durchschnittliche Sitzungsdauer\",\"Seitenaufrufe pro Sitzung\",\"Absprünge\",\"Sitzungen, in denen Artikel zum Warenkorb hinzugefügt wurden\",\"Sitzungen, bei denen der Checkout erreicht wurde\",\"Sitzungen, bei denen der Checkout abgeschlossen wurde\",\"Sitzungen\"]\n",
    "\n",
    "all = dict(zip(nw, og))\n",
    "\n",
    "print(all)"
   ]
  },
  {
   "cell_type": "markdown",
   "id": "c77de548",
   "metadata": {},
   "source": [
    "### Werbekampagnen \n",
    "#### CSV bereinigen\n",
    "\n",
    "- unten auskommentiert,, weil bereits gelaufen"
   ]
  },
  {
   "cell_type": "code",
   "execution_count": null,
   "id": "4ff3427a",
   "metadata": {},
   "outputs": [],
   "source": [
    "# alpha = pd.read_csv(\"../../Data/Sanitized/GoogleAds.csv\", sep=\";\")\n",
    "\n",
    "# alpha['Kosten'] = alpha['Kosten'].str.replace(',', '.').astype(float)\n",
    "# alpha.Kosten.sum()\n",
    "# alpha.to_csv(\"../../Data/Sanitized/Alpha.csv\", index=False)\n",
    "\n",
    "\n",
    "\n"
   ]
  }
 ],
 "metadata": {
  "kernelspec": {
   "display_name": ".venv (3.13.2)",
   "language": "python",
   "name": "python3"
  },
  "language_info": {
   "codemirror_mode": {
    "name": "ipython",
    "version": 3
   },
   "file_extension": ".py",
   "mimetype": "text/x-python",
   "name": "python",
   "nbconvert_exporter": "python",
   "pygments_lexer": "ipython3",
   "version": "3.13.2"
  }
 },
 "nbformat": 4,
 "nbformat_minor": 5
}
