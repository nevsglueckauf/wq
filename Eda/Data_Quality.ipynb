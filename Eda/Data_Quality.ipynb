{
 "cells": [
  {
   "cell_type": "code",
   "execution_count": 23,
   "id": "817e2818",
   "metadata": {},
   "outputs": [],
   "source": [
    "import pandas as pd\n",
    "import numpy as np\n",
    "import math\n",
    "import statistics as stats"
   ]
  },
  {
   "cell_type": "code",
   "execution_count": 2,
   "id": "382e22d4",
   "metadata": {},
   "outputs": [],
   "source": [
    "conversion_rate = pd.read_csv(r\"C:\\Users\\Admin\\Documents\\Whisky Projekt\\public\\wq\\Data\\Datensätze_roh\\Kopie-Aufschlüsselung der Conversion-Rate - 2024-08-31 - 2025-08-31.csv\")"
   ]
  },
  {
   "cell_type": "markdown",
   "id": "29d61fd8",
   "metadata": {},
   "source": [
    "## Conversion-Rate"
   ]
  },
  {
   "cell_type": "code",
   "execution_count": 3,
   "id": "503b9ff2",
   "metadata": {},
   "outputs": [
    {
     "data": {
      "text/html": [
       "<div>\n",
       "<style scoped>\n",
       "    .dataframe tbody tr th:only-of-type {\n",
       "        vertical-align: middle;\n",
       "    }\n",
       "\n",
       "    .dataframe tbody tr th {\n",
       "        vertical-align: top;\n",
       "    }\n",
       "\n",
       "    .dataframe thead th {\n",
       "        text-align: right;\n",
       "    }\n",
       "</style>\n",
       "<table border=\"1\" class=\"dataframe\">\n",
       "  <thead>\n",
       "    <tr style=\"text-align: right;\">\n",
       "      <th></th>\n",
       "      <th>Monat</th>\n",
       "      <th>sessions</th>\n",
       "      <th>sess_add_cart</th>\n",
       "      <th>sess_co</th>\n",
       "      <th>sess_co_done</th>\n",
       "      <th>cr%</th>\n",
       "      <th>Month (previous_period)</th>\n",
       "      <th>Sessions (previous_period)</th>\n",
       "      <th>Sessions with cart additions (previous_period)</th>\n",
       "      <th>Sessions that reached checkout (previous_period)</th>\n",
       "      <th>Sessions that completed checkout (previous_period)</th>\n",
       "      <th>Conversion rate (previous_period)</th>\n",
       "    </tr>\n",
       "  </thead>\n",
       "  <tbody>\n",
       "    <tr>\n",
       "      <th>0</th>\n",
       "      <td>01.08.2024</td>\n",
       "      <td>0</td>\n",
       "      <td>0</td>\n",
       "      <td>0</td>\n",
       "      <td>0</td>\n",
       "      <td>NaN</td>\n",
       "      <td>01.08.2023</td>\n",
       "      <td>0</td>\n",
       "      <td>0</td>\n",
       "      <td>0</td>\n",
       "      <td>0</td>\n",
       "      <td>NaN</td>\n",
       "    </tr>\n",
       "    <tr>\n",
       "      <th>1</th>\n",
       "      <td>01.09.2024</td>\n",
       "      <td>0</td>\n",
       "      <td>0</td>\n",
       "      <td>0</td>\n",
       "      <td>0</td>\n",
       "      <td>NaN</td>\n",
       "      <td>01.09.2023</td>\n",
       "      <td>0</td>\n",
       "      <td>0</td>\n",
       "      <td>0</td>\n",
       "      <td>0</td>\n",
       "      <td>NaN</td>\n",
       "    </tr>\n",
       "    <tr>\n",
       "      <th>2</th>\n",
       "      <td>01.10.2024</td>\n",
       "      <td>222</td>\n",
       "      <td>3</td>\n",
       "      <td>2</td>\n",
       "      <td>0</td>\n",
       "      <td>0.000000</td>\n",
       "      <td>01.10.2023</td>\n",
       "      <td>0</td>\n",
       "      <td>0</td>\n",
       "      <td>0</td>\n",
       "      <td>0</td>\n",
       "      <td>NaN</td>\n",
       "    </tr>\n",
       "    <tr>\n",
       "      <th>3</th>\n",
       "      <td>01.11.2024</td>\n",
       "      <td>363</td>\n",
       "      <td>9</td>\n",
       "      <td>6</td>\n",
       "      <td>3</td>\n",
       "      <td>0.008264</td>\n",
       "      <td>01.11.2023</td>\n",
       "      <td>0</td>\n",
       "      <td>0</td>\n",
       "      <td>0</td>\n",
       "      <td>0</td>\n",
       "      <td>NaN</td>\n",
       "    </tr>\n",
       "    <tr>\n",
       "      <th>4</th>\n",
       "      <td>01.12.2024</td>\n",
       "      <td>298</td>\n",
       "      <td>11</td>\n",
       "      <td>11</td>\n",
       "      <td>5</td>\n",
       "      <td>0.016779</td>\n",
       "      <td>01.12.2023</td>\n",
       "      <td>0</td>\n",
       "      <td>0</td>\n",
       "      <td>0</td>\n",
       "      <td>0</td>\n",
       "      <td>NaN</td>\n",
       "    </tr>\n",
       "  </tbody>\n",
       "</table>\n",
       "</div>"
      ],
      "text/plain": [
       "        Monat  sessions  sess_add_cart  sess_co  sess_co_done       cr%  \\\n",
       "0  01.08.2024         0              0        0             0       NaN   \n",
       "1  01.09.2024         0              0        0             0       NaN   \n",
       "2  01.10.2024       222              3        2             0  0.000000   \n",
       "3  01.11.2024       363              9        6             3  0.008264   \n",
       "4  01.12.2024       298             11       11             5  0.016779   \n",
       "\n",
       "  Month (previous_period)  Sessions (previous_period)  \\\n",
       "0              01.08.2023                           0   \n",
       "1              01.09.2023                           0   \n",
       "2              01.10.2023                           0   \n",
       "3              01.11.2023                           0   \n",
       "4              01.12.2023                           0   \n",
       "\n",
       "   Sessions with cart additions (previous_period)  \\\n",
       "0                                               0   \n",
       "1                                               0   \n",
       "2                                               0   \n",
       "3                                               0   \n",
       "4                                               0   \n",
       "\n",
       "   Sessions that reached checkout (previous_period)  \\\n",
       "0                                                 0   \n",
       "1                                                 0   \n",
       "2                                                 0   \n",
       "3                                                 0   \n",
       "4                                                 0   \n",
       "\n",
       "   Sessions that completed checkout (previous_period)  \\\n",
       "0                                                  0    \n",
       "1                                                  0    \n",
       "2                                                  0    \n",
       "3                                                  0    \n",
       "4                                                  0    \n",
       "\n",
       "   Conversion rate (previous_period)  \n",
       "0                                NaN  \n",
       "1                                NaN  \n",
       "2                                NaN  \n",
       "3                                NaN  \n",
       "4                                NaN  "
      ]
     },
     "execution_count": 3,
     "metadata": {},
     "output_type": "execute_result"
    }
   ],
   "source": [
    "conversion_rate.head()"
   ]
  },
  {
   "cell_type": "code",
   "execution_count": 6,
   "id": "476cc2c2",
   "metadata": {},
   "outputs": [
    {
     "data": {
      "text/html": [
       "<div>\n",
       "<style scoped>\n",
       "    .dataframe tbody tr th:only-of-type {\n",
       "        vertical-align: middle;\n",
       "    }\n",
       "\n",
       "    .dataframe tbody tr th {\n",
       "        vertical-align: top;\n",
       "    }\n",
       "\n",
       "    .dataframe thead th {\n",
       "        text-align: right;\n",
       "    }\n",
       "</style>\n",
       "<table border=\"1\" class=\"dataframe\">\n",
       "  <thead>\n",
       "    <tr style=\"text-align: right;\">\n",
       "      <th></th>\n",
       "      <th>sessions</th>\n",
       "      <th>sess_add_cart</th>\n",
       "      <th>sess_co</th>\n",
       "      <th>sess_co_done</th>\n",
       "      <th>cr%</th>\n",
       "      <th>Sessions (previous_period)</th>\n",
       "      <th>Sessions with cart additions (previous_period)</th>\n",
       "      <th>Sessions that reached checkout (previous_period)</th>\n",
       "      <th>Sessions that completed checkout (previous_period)</th>\n",
       "      <th>Conversion rate (previous_period)</th>\n",
       "    </tr>\n",
       "  </thead>\n",
       "  <tbody>\n",
       "    <tr>\n",
       "      <th>count</th>\n",
       "      <td>13.000000</td>\n",
       "      <td>13.000000</td>\n",
       "      <td>13.000000</td>\n",
       "      <td>13.000000</td>\n",
       "      <td>11.000000</td>\n",
       "      <td>13.0</td>\n",
       "      <td>13.0</td>\n",
       "      <td>13.0</td>\n",
       "      <td>13.0</td>\n",
       "      <td>0.0</td>\n",
       "    </tr>\n",
       "    <tr>\n",
       "      <th>mean</th>\n",
       "      <td>290.230769</td>\n",
       "      <td>7.692308</td>\n",
       "      <td>5.846154</td>\n",
       "      <td>1.846154</td>\n",
       "      <td>0.007768</td>\n",
       "      <td>0.0</td>\n",
       "      <td>0.0</td>\n",
       "      <td>0.0</td>\n",
       "      <td>0.0</td>\n",
       "      <td>NaN</td>\n",
       "    </tr>\n",
       "    <tr>\n",
       "      <th>std</th>\n",
       "      <td>234.855684</td>\n",
       "      <td>5.677215</td>\n",
       "      <td>5.030675</td>\n",
       "      <td>1.675617</td>\n",
       "      <td>0.007671</td>\n",
       "      <td>0.0</td>\n",
       "      <td>0.0</td>\n",
       "      <td>0.0</td>\n",
       "      <td>0.0</td>\n",
       "      <td>NaN</td>\n",
       "    </tr>\n",
       "    <tr>\n",
       "      <th>min</th>\n",
       "      <td>0.000000</td>\n",
       "      <td>0.000000</td>\n",
       "      <td>0.000000</td>\n",
       "      <td>0.000000</td>\n",
       "      <td>0.000000</td>\n",
       "      <td>0.0</td>\n",
       "      <td>0.0</td>\n",
       "      <td>0.0</td>\n",
       "      <td>0.0</td>\n",
       "      <td>NaN</td>\n",
       "    </tr>\n",
       "    <tr>\n",
       "      <th>25%</th>\n",
       "      <td>158.000000</td>\n",
       "      <td>3.000000</td>\n",
       "      <td>1.000000</td>\n",
       "      <td>0.000000</td>\n",
       "      <td>0.002989</td>\n",
       "      <td>0.0</td>\n",
       "      <td>0.0</td>\n",
       "      <td>0.0</td>\n",
       "      <td>0.0</td>\n",
       "      <td>NaN</td>\n",
       "    </tr>\n",
       "    <tr>\n",
       "      <th>50%</th>\n",
       "      <td>222.000000</td>\n",
       "      <td>9.000000</td>\n",
       "      <td>6.000000</td>\n",
       "      <td>2.000000</td>\n",
       "      <td>0.005650</td>\n",
       "      <td>0.0</td>\n",
       "      <td>0.0</td>\n",
       "      <td>0.0</td>\n",
       "      <td>0.0</td>\n",
       "      <td>NaN</td>\n",
       "    </tr>\n",
       "    <tr>\n",
       "      <th>75%</th>\n",
       "      <td>416.000000</td>\n",
       "      <td>11.000000</td>\n",
       "      <td>8.000000</td>\n",
       "      <td>3.000000</td>\n",
       "      <td>0.009879</td>\n",
       "      <td>0.0</td>\n",
       "      <td>0.0</td>\n",
       "      <td>0.0</td>\n",
       "      <td>0.0</td>\n",
       "      <td>NaN</td>\n",
       "    </tr>\n",
       "    <tr>\n",
       "      <th>max</th>\n",
       "      <td>854.000000</td>\n",
       "      <td>17.000000</td>\n",
       "      <td>16.000000</td>\n",
       "      <td>5.000000</td>\n",
       "      <td>0.025316</td>\n",
       "      <td>0.0</td>\n",
       "      <td>0.0</td>\n",
       "      <td>0.0</td>\n",
       "      <td>0.0</td>\n",
       "      <td>NaN</td>\n",
       "    </tr>\n",
       "  </tbody>\n",
       "</table>\n",
       "</div>"
      ],
      "text/plain": [
       "         sessions  sess_add_cart    sess_co  sess_co_done        cr%  \\\n",
       "count   13.000000      13.000000  13.000000     13.000000  11.000000   \n",
       "mean   290.230769       7.692308   5.846154      1.846154   0.007768   \n",
       "std    234.855684       5.677215   5.030675      1.675617   0.007671   \n",
       "min      0.000000       0.000000   0.000000      0.000000   0.000000   \n",
       "25%    158.000000       3.000000   1.000000      0.000000   0.002989   \n",
       "50%    222.000000       9.000000   6.000000      2.000000   0.005650   \n",
       "75%    416.000000      11.000000   8.000000      3.000000   0.009879   \n",
       "max    854.000000      17.000000  16.000000      5.000000   0.025316   \n",
       "\n",
       "       Sessions (previous_period)  \\\n",
       "count                        13.0   \n",
       "mean                          0.0   \n",
       "std                           0.0   \n",
       "min                           0.0   \n",
       "25%                           0.0   \n",
       "50%                           0.0   \n",
       "75%                           0.0   \n",
       "max                           0.0   \n",
       "\n",
       "       Sessions with cart additions (previous_period)  \\\n",
       "count                                            13.0   \n",
       "mean                                              0.0   \n",
       "std                                               0.0   \n",
       "min                                               0.0   \n",
       "25%                                               0.0   \n",
       "50%                                               0.0   \n",
       "75%                                               0.0   \n",
       "max                                               0.0   \n",
       "\n",
       "       Sessions that reached checkout (previous_period)  \\\n",
       "count                                              13.0   \n",
       "mean                                                0.0   \n",
       "std                                                 0.0   \n",
       "min                                                 0.0   \n",
       "25%                                                 0.0   \n",
       "50%                                                 0.0   \n",
       "75%                                                 0.0   \n",
       "max                                                 0.0   \n",
       "\n",
       "       Sessions that completed checkout (previous_period)  \\\n",
       "count                                               13.0    \n",
       "mean                                                 0.0    \n",
       "std                                                  0.0    \n",
       "min                                                  0.0    \n",
       "25%                                                  0.0    \n",
       "50%                                                  0.0    \n",
       "75%                                                  0.0    \n",
       "max                                                  0.0    \n",
       "\n",
       "       Conversion rate (previous_period)  \n",
       "count                                0.0  \n",
       "mean                                 NaN  \n",
       "std                                  NaN  \n",
       "min                                  NaN  \n",
       "25%                                  NaN  \n",
       "50%                                  NaN  \n",
       "75%                                  NaN  \n",
       "max                                  NaN  "
      ]
     },
     "execution_count": 6,
     "metadata": {},
     "output_type": "execute_result"
    }
   ],
   "source": [
    "conversion_rate.describe()"
   ]
  },
  {
   "cell_type": "code",
   "execution_count": null,
   "id": "a72195ee",
   "metadata": {},
   "outputs": [
    {
     "name": "stdout",
     "output_type": "stream",
     "text": [
      "0\n"
     ]
    }
   ],
   "source": [
    "cr_nan = conversion_rate['sessions'].isna().sum() #nans\n",
    "print(cr_nan)\n"
   ]
  },
  {
   "cell_type": "code",
   "execution_count": null,
   "id": "8478fbed",
   "metadata": {},
   "outputs": [
    {
     "name": "stdout",
     "output_type": "stream",
     "text": [
      "2\n"
     ]
    }
   ],
   "source": [
    "cr_null = (conversion_rate['sessions']== 0).sum() #nulls\n",
    "print(cr_null)\n",
    "\n",
    "#15,38% Fehlendenrate\n"
   ]
  },
  {
   "cell_type": "code",
   "execution_count": null,
   "id": "d8358306",
   "metadata": {},
   "outputs": [
    {
     "name": "stdout",
     "output_type": "stream",
     "text": [
      "2\n"
     ]
    }
   ],
   "source": [
    "cr_null_sess_ac = (conversion_rate['sess_add_cart']== 0).sum() #nulls\n",
    "print(cr_null_sess_ac)\n",
    "\n",
    "#15,38% Fehlendenrate\n"
   ]
  },
  {
   "cell_type": "code",
   "execution_count": null,
   "id": "38f2e682",
   "metadata": {},
   "outputs": [
    {
     "name": "stdout",
     "output_type": "stream",
     "text": [
      "2\n"
     ]
    }
   ],
   "source": [
    "cr_null_sess_co = (conversion_rate['sess_co']== 0).sum() #nulls\n",
    "print(cr_null_sess_co)\n",
    "\n",
    "#15,38% Fehlendenrate\n"
   ]
  },
  {
   "cell_type": "code",
   "execution_count": null,
   "id": "b6e63f3f",
   "metadata": {},
   "outputs": [
    {
     "name": "stdout",
     "output_type": "stream",
     "text": [
      "4\n"
     ]
    }
   ],
   "source": [
    "cr_null_sess_cod = (conversion_rate['sess_co_done']== 0).sum() #nulls\n",
    "print(cr_null_sess_cod)\n",
    "\n",
    "#30,76% Fehlendenrate\n"
   ]
  },
  {
   "cell_type": "code",
   "execution_count": 20,
   "id": "10d7e409",
   "metadata": {},
   "outputs": [
    {
     "name": "stdout",
     "output_type": "stream",
     "text": [
      "<class 'pandas.core.frame.DataFrame'>\n",
      "RangeIndex: 13 entries, 0 to 12\n",
      "Data columns (total 12 columns):\n",
      " #   Column                                              Non-Null Count  Dtype  \n",
      "---  ------                                              --------------  -----  \n",
      " 0   Monat                                               13 non-null     object \n",
      " 1   sessions                                            13 non-null     int64  \n",
      " 2   sess_add_cart                                       13 non-null     int64  \n",
      " 3   sess_co                                             13 non-null     int64  \n",
      " 4   sess_co_done                                        13 non-null     int64  \n",
      " 5   cr%                                                 11 non-null     float64\n",
      " 6   Month (previous_period)                             13 non-null     object \n",
      " 7   Sessions (previous_period)                          13 non-null     int64  \n",
      " 8   Sessions with cart additions (previous_period)      13 non-null     int64  \n",
      " 9   Sessions that reached checkout (previous_period)    13 non-null     int64  \n",
      " 10  Sessions that completed checkout (previous_period)  13 non-null     int64  \n",
      " 11  Conversion rate (previous_period)                   0 non-null      float64\n",
      "dtypes: float64(2), int64(8), object(2)\n",
      "memory usage: 1.3+ KB\n"
     ]
    }
   ],
   "source": [
    "conversion_rate.info()"
   ]
  },
  {
   "cell_type": "markdown",
   "id": "91d5303c",
   "metadata": {},
   "source": [
    "## Gesamtumsatz im Zeitverlauf"
   ]
  },
  {
   "cell_type": "code",
   "execution_count": 24,
   "id": "a9717745",
   "metadata": {},
   "outputs": [],
   "source": [
    "gu_zeit = pd.read_csv(r\"C:\\Users\\Admin\\Documents\\Whisky Projekt\\public\\wq\\Data\\Datensätze_roh\\Gesamtumsatz im Zeitverlauf - 2024-08-31 - 2025-08-31.csv\")"
   ]
  },
  {
   "cell_type": "code",
   "execution_count": 25,
   "id": "89a59b2b",
   "metadata": {},
   "outputs": [
    {
     "data": {
      "text/html": [
       "<div>\n",
       "<style scoped>\n",
       "    .dataframe tbody tr th:only-of-type {\n",
       "        vertical-align: middle;\n",
       "    }\n",
       "\n",
       "    .dataframe tbody tr th {\n",
       "        vertical-align: top;\n",
       "    }\n",
       "\n",
       "    .dataframe thead th {\n",
       "        text-align: right;\n",
       "    }\n",
       "</style>\n",
       "<table border=\"1\" class=\"dataframe\">\n",
       "  <thead>\n",
       "    <tr style=\"text-align: right;\">\n",
       "      <th></th>\n",
       "      <th>Monat</th>\n",
       "      <th>Bestellungen</th>\n",
       "      <th>Bruttoumsatz</th>\n",
       "      <th>Rabatte</th>\n",
       "      <th>Rückgaben</th>\n",
       "      <th>Nettoumsatz</th>\n",
       "      <th>Versandgebühren</th>\n",
       "      <th>Zollgebühren</th>\n",
       "      <th>Zusätzliche Gebühren</th>\n",
       "      <th>Steuern</th>\n",
       "      <th>...</th>\n",
       "      <th>Gross sales (previous_period)</th>\n",
       "      <th>Discounts (previous_period)</th>\n",
       "      <th>Returns (previous_period)</th>\n",
       "      <th>Net sales (previous_period)</th>\n",
       "      <th>Shipping charges (previous_period)</th>\n",
       "      <th>Duties (previous_period)</th>\n",
       "      <th>Additional fees (previous_period)</th>\n",
       "      <th>Taxes (previous_period)</th>\n",
       "      <th>Total sales (previous_period)</th>\n",
       "      <th>Customers (previous_period)</th>\n",
       "    </tr>\n",
       "  </thead>\n",
       "  <tbody>\n",
       "    <tr>\n",
       "      <th>0</th>\n",
       "      <td>2024-08-01</td>\n",
       "      <td>0</td>\n",
       "      <td>0.0</td>\n",
       "      <td>0.0</td>\n",
       "      <td>0</td>\n",
       "      <td>0.0</td>\n",
       "      <td>0.00</td>\n",
       "      <td>0</td>\n",
       "      <td>0</td>\n",
       "      <td>0</td>\n",
       "      <td>...</td>\n",
       "      <td>0</td>\n",
       "      <td>0</td>\n",
       "      <td>0</td>\n",
       "      <td>0</td>\n",
       "      <td>0</td>\n",
       "      <td>0</td>\n",
       "      <td>0</td>\n",
       "      <td>0</td>\n",
       "      <td>0</td>\n",
       "      <td>0</td>\n",
       "    </tr>\n",
       "    <tr>\n",
       "      <th>1</th>\n",
       "      <td>2024-09-01</td>\n",
       "      <td>0</td>\n",
       "      <td>0.0</td>\n",
       "      <td>0.0</td>\n",
       "      <td>0</td>\n",
       "      <td>0.0</td>\n",
       "      <td>0.00</td>\n",
       "      <td>0</td>\n",
       "      <td>0</td>\n",
       "      <td>0</td>\n",
       "      <td>...</td>\n",
       "      <td>0</td>\n",
       "      <td>0</td>\n",
       "      <td>0</td>\n",
       "      <td>0</td>\n",
       "      <td>0</td>\n",
       "      <td>0</td>\n",
       "      <td>0</td>\n",
       "      <td>0</td>\n",
       "      <td>0</td>\n",
       "      <td>0</td>\n",
       "    </tr>\n",
       "    <tr>\n",
       "      <th>2</th>\n",
       "      <td>2024-10-01</td>\n",
       "      <td>0</td>\n",
       "      <td>0.0</td>\n",
       "      <td>0.0</td>\n",
       "      <td>0</td>\n",
       "      <td>0.0</td>\n",
       "      <td>0.00</td>\n",
       "      <td>0</td>\n",
       "      <td>0</td>\n",
       "      <td>0</td>\n",
       "      <td>...</td>\n",
       "      <td>0</td>\n",
       "      <td>0</td>\n",
       "      <td>0</td>\n",
       "      <td>0</td>\n",
       "      <td>0</td>\n",
       "      <td>0</td>\n",
       "      <td>0</td>\n",
       "      <td>0</td>\n",
       "      <td>0</td>\n",
       "      <td>0</td>\n",
       "    </tr>\n",
       "    <tr>\n",
       "      <th>3</th>\n",
       "      <td>2024-11-01</td>\n",
       "      <td>13</td>\n",
       "      <td>825.0</td>\n",
       "      <td>0.0</td>\n",
       "      <td>-1</td>\n",
       "      <td>824.0</td>\n",
       "      <td>46.92</td>\n",
       "      <td>0</td>\n",
       "      <td>0</td>\n",
       "      <td>0</td>\n",
       "      <td>...</td>\n",
       "      <td>0</td>\n",
       "      <td>0</td>\n",
       "      <td>0</td>\n",
       "      <td>0</td>\n",
       "      <td>0</td>\n",
       "      <td>0</td>\n",
       "      <td>0</td>\n",
       "      <td>0</td>\n",
       "      <td>0</td>\n",
       "      <td>0</td>\n",
       "    </tr>\n",
       "    <tr>\n",
       "      <th>4</th>\n",
       "      <td>2024-12-01</td>\n",
       "      <td>5</td>\n",
       "      <td>642.0</td>\n",
       "      <td>0.0</td>\n",
       "      <td>0</td>\n",
       "      <td>642.0</td>\n",
       "      <td>32.96</td>\n",
       "      <td>0</td>\n",
       "      <td>0</td>\n",
       "      <td>0</td>\n",
       "      <td>...</td>\n",
       "      <td>0</td>\n",
       "      <td>0</td>\n",
       "      <td>0</td>\n",
       "      <td>0</td>\n",
       "      <td>0</td>\n",
       "      <td>0</td>\n",
       "      <td>0</td>\n",
       "      <td>0</td>\n",
       "      <td>0</td>\n",
       "      <td>0</td>\n",
       "    </tr>\n",
       "  </tbody>\n",
       "</table>\n",
       "<p>5 rows × 24 columns</p>\n",
       "</div>"
      ],
      "text/plain": [
       "        Monat  Bestellungen  Bruttoumsatz  Rabatte  Rückgaben  Nettoumsatz  \\\n",
       "0  2024-08-01             0           0.0      0.0          0          0.0   \n",
       "1  2024-09-01             0           0.0      0.0          0          0.0   \n",
       "2  2024-10-01             0           0.0      0.0          0          0.0   \n",
       "3  2024-11-01            13         825.0      0.0         -1        824.0   \n",
       "4  2024-12-01             5         642.0      0.0          0        642.0   \n",
       "\n",
       "   Versandgebühren  Zollgebühren  Zusätzliche Gebühren  Steuern  ...  \\\n",
       "0             0.00             0                     0        0  ...   \n",
       "1             0.00             0                     0        0  ...   \n",
       "2             0.00             0                     0        0  ...   \n",
       "3            46.92             0                     0        0  ...   \n",
       "4            32.96             0                     0        0  ...   \n",
       "\n",
       "   Gross sales (previous_period)  Discounts (previous_period)  \\\n",
       "0                              0                            0   \n",
       "1                              0                            0   \n",
       "2                              0                            0   \n",
       "3                              0                            0   \n",
       "4                              0                            0   \n",
       "\n",
       "  Returns (previous_period)  Net sales (previous_period)  \\\n",
       "0                         0                            0   \n",
       "1                         0                            0   \n",
       "2                         0                            0   \n",
       "3                         0                            0   \n",
       "4                         0                            0   \n",
       "\n",
       "   Shipping charges (previous_period)  Duties (previous_period)  \\\n",
       "0                                   0                         0   \n",
       "1                                   0                         0   \n",
       "2                                   0                         0   \n",
       "3                                   0                         0   \n",
       "4                                   0                         0   \n",
       "\n",
       "   Additional fees (previous_period)  Taxes (previous_period)  \\\n",
       "0                                  0                        0   \n",
       "1                                  0                        0   \n",
       "2                                  0                        0   \n",
       "3                                  0                        0   \n",
       "4                                  0                        0   \n",
       "\n",
       "   Total sales (previous_period)  Customers (previous_period)  \n",
       "0                              0                            0  \n",
       "1                              0                            0  \n",
       "2                              0                            0  \n",
       "3                              0                            0  \n",
       "4                              0                            0  \n",
       "\n",
       "[5 rows x 24 columns]"
      ]
     },
     "execution_count": 25,
     "metadata": {},
     "output_type": "execute_result"
    }
   ],
   "source": [
    "gu_zeit.head()"
   ]
  },
  {
   "cell_type": "code",
   "execution_count": 26,
   "id": "8381c8ca",
   "metadata": {},
   "outputs": [
    {
     "name": "stdout",
     "output_type": "stream",
     "text": [
      "0\n"
     ]
    }
   ],
   "source": [
    "gu_zeit_best = gu_zeit['Bestellungen'].isna().sum() #nans\n",
    "print(gu_zeit_best)"
   ]
  },
  {
   "cell_type": "code",
   "execution_count": null,
   "id": "60587382",
   "metadata": {},
   "outputs": [
    {
     "name": "stdout",
     "output_type": "stream",
     "text": [
      "3\n"
     ]
    }
   ],
   "source": [
    "gu_zeit_best = (gu_zeit['Bestellungen']== 0).sum() #nulls\n",
    "print(gu_zeit_best)\n",
    "\n",
    "# 23,07 %"
   ]
  },
  {
   "cell_type": "code",
   "execution_count": 27,
   "id": "4ca04529",
   "metadata": {},
   "outputs": [
    {
     "name": "stdout",
     "output_type": "stream",
     "text": [
      "<class 'pandas.core.frame.DataFrame'>\n",
      "RangeIndex: 13 entries, 0 to 12\n",
      "Data columns (total 24 columns):\n",
      " #   Column                              Non-Null Count  Dtype  \n",
      "---  ------                              --------------  -----  \n",
      " 0   Monat                               13 non-null     object \n",
      " 1   Bestellungen                        13 non-null     int64  \n",
      " 2   Bruttoumsatz                        13 non-null     float64\n",
      " 3   Rabatte                             13 non-null     float64\n",
      " 4   Rückgaben                           13 non-null     int64  \n",
      " 5   Nettoumsatz                         13 non-null     float64\n",
      " 6   Versandgebühren                     13 non-null     float64\n",
      " 7   Zollgebühren                        13 non-null     int64  \n",
      " 8   Zusätzliche Gebühren                13 non-null     int64  \n",
      " 9   Steuern                             13 non-null     int64  \n",
      " 10  Gesamtumsatz                        13 non-null     float64\n",
      " 11  Kunden                              13 non-null     int64  \n",
      " 12  Month (previous_period)             13 non-null     object \n",
      " 13  Orders (previous_period)            13 non-null     int64  \n",
      " 14  Gross sales (previous_period)       13 non-null     int64  \n",
      " 15  Discounts (previous_period)         13 non-null     int64  \n",
      " 16  Returns (previous_period)           13 non-null     int64  \n",
      " 17  Net sales (previous_period)         13 non-null     int64  \n",
      " 18  Shipping charges (previous_period)  13 non-null     int64  \n",
      " 19  Duties (previous_period)            13 non-null     int64  \n",
      " 20  Additional fees (previous_period)   13 non-null     int64  \n",
      " 21  Taxes (previous_period)             13 non-null     int64  \n",
      " 22  Total sales (previous_period)       13 non-null     int64  \n",
      " 23  Customers (previous_period)         13 non-null     int64  \n",
      "dtypes: float64(5), int64(17), object(2)\n",
      "memory usage: 2.6+ KB\n"
     ]
    }
   ],
   "source": [
    "gu_zeit.info()"
   ]
  },
  {
   "cell_type": "code",
   "execution_count": 37,
   "id": "9bfb81fd",
   "metadata": {},
   "outputs": [
    {
     "name": "stdout",
     "output_type": "stream",
     "text": [
      "0\n"
     ]
    }
   ],
   "source": [
    "gu_zeit_brutto = gu_zeit['Bruttoumsatz'].isna().sum() #nans\n",
    "print(gu_zeit_brutto)"
   ]
  },
  {
   "cell_type": "code",
   "execution_count": null,
   "id": "3eb4c1c3",
   "metadata": {},
   "outputs": [
    {
     "name": "stdout",
     "output_type": "stream",
     "text": [
      "3\n"
     ]
    }
   ],
   "source": [
    "gu_zeit_brutto = (gu_zeit['Bruttoumsatz']== 0.0).sum() #nulls\n",
    "print(gu_zeit_brutto)\n",
    "\n",
    "\n",
    "# 23,08 %"
   ]
  },
  {
   "cell_type": "code",
   "execution_count": null,
   "id": "c3c4430a",
   "metadata": {},
   "outputs": [],
   "source": [
    "# rabatte 13/13 0.0 -> 100%"
   ]
  },
  {
   "cell_type": "code",
   "execution_count": null,
   "id": "0226c1d9",
   "metadata": {},
   "outputs": [
    {
     "name": "stdout",
     "output_type": "stream",
     "text": [
      "12\n"
     ]
    }
   ],
   "source": [
    "gu_zeit_rueck = (gu_zeit['Rückgaben']== 0.0).sum() #nulls\n",
    "print(gu_zeit_rueck)\n",
    "\n",
    "# 92,3%"
   ]
  },
  {
   "cell_type": "code",
   "execution_count": null,
   "id": "a18aff59",
   "metadata": {},
   "outputs": [
    {
     "name": "stdout",
     "output_type": "stream",
     "text": [
      "3\n"
     ]
    }
   ],
   "source": [
    "gu_zeit_netto = (gu_zeit['Nettoumsatz']== 0.0).sum() #nulls\n",
    "print(gu_zeit_netto)\n",
    "\n",
    "# 23,08 %"
   ]
  },
  {
   "cell_type": "code",
   "execution_count": null,
   "id": "c5789a62",
   "metadata": {},
   "outputs": [
    {
     "name": "stdout",
     "output_type": "stream",
     "text": [
      "3\n"
     ]
    }
   ],
   "source": [
    "gu_zeit_vers = (gu_zeit['Versandgebühren']== 0.0).sum() #nulls\n",
    "print(gu_zeit_vers)\n",
    "\n",
    "# 23,08 %"
   ]
  },
  {
   "cell_type": "code",
   "execution_count": 35,
   "id": "1f6b9b5e",
   "metadata": {},
   "outputs": [],
   "source": [
    "# zoll 13/13 0.0 -> 100%"
   ]
  },
  {
   "cell_type": "code",
   "execution_count": null,
   "id": "c504a0e0",
   "metadata": {},
   "outputs": [],
   "source": []
  },
  {
   "cell_type": "markdown",
   "id": "5b766829",
   "metadata": {},
   "source": [
    "## sitzungsverf"
   ]
  },
  {
   "cell_type": "code",
   "execution_count": 38,
   "id": "7aff17ad",
   "metadata": {},
   "outputs": [],
   "source": [
    "sitzungsv = pd.read_csv(r\"C:\\Users\\Admin\\Documents\\Whisky Projekt\\public\\wq\\Data\\Datensätze_roh\\Sitzungsverfolgung - Referrer nach Zeit, Sitzungsdauer und Aktionen - 2024-08-31 - 2025-08-31.csv\")"
   ]
  },
  {
   "cell_type": "code",
   "execution_count": 39,
   "id": "a738a5af",
   "metadata": {},
   "outputs": [
    {
     "name": "stdout",
     "output_type": "stream",
     "text": [
      "<class 'pandas.core.frame.DataFrame'>\n",
      "RangeIndex: 2210 entries, 0 to 2209\n",
      "Data columns (total 12 columns):\n",
      " #   Column                                                        Non-Null Count  Dtype  \n",
      "---  ------                                                        --------------  -----  \n",
      " 0   Sitzungsland                                                  2210 non-null   object \n",
      " 1   Sitzungsort                                                   2141 non-null   object \n",
      " 2   Monat                                                         2210 non-null   object \n",
      " 3   Empfehlungsplattform                                          2210 non-null   object \n",
      " 4   Landing-Page-URL                                              2210 non-null   object \n",
      " 5   Durchschnittliche Sitzungsdauer                               2210 non-null   float64\n",
      " 6   Seitenaufrufe pro Sitzung                                     2210 non-null   float64\n",
      " 7   Absprünge                                                     2210 non-null   int64  \n",
      " 8   Sitzungen, in denen Artikel zum Warenkorb hinzugefügt wurden  2210 non-null   int64  \n",
      " 9   Sitzungen, bei denen der Checkout erreicht wurde              2210 non-null   int64  \n",
      " 10  Sitzungen, bei denen der Checkout abgeschlossen wurde         2210 non-null   int64  \n",
      " 11  Sitzungen                                                     2210 non-null   int64  \n",
      "dtypes: float64(2), int64(5), object(5)\n",
      "memory usage: 207.3+ KB\n"
     ]
    }
   ],
   "source": [
    "sitzungsv.info()"
   ]
  },
  {
   "cell_type": "code",
   "execution_count": 40,
   "id": "44716e93",
   "metadata": {},
   "outputs": [
    {
     "data": {
      "text/html": [
       "<div>\n",
       "<style scoped>\n",
       "    .dataframe tbody tr th:only-of-type {\n",
       "        vertical-align: middle;\n",
       "    }\n",
       "\n",
       "    .dataframe tbody tr th {\n",
       "        vertical-align: top;\n",
       "    }\n",
       "\n",
       "    .dataframe thead th {\n",
       "        text-align: right;\n",
       "    }\n",
       "</style>\n",
       "<table border=\"1\" class=\"dataframe\">\n",
       "  <thead>\n",
       "    <tr style=\"text-align: right;\">\n",
       "      <th></th>\n",
       "      <th>Sitzungsland</th>\n",
       "      <th>Sitzungsort</th>\n",
       "      <th>Monat</th>\n",
       "      <th>Empfehlungsplattform</th>\n",
       "      <th>Landing-Page-URL</th>\n",
       "      <th>Durchschnittliche Sitzungsdauer</th>\n",
       "      <th>Seitenaufrufe pro Sitzung</th>\n",
       "      <th>Absprünge</th>\n",
       "      <th>Sitzungen, in denen Artikel zum Warenkorb hinzugefügt wurden</th>\n",
       "      <th>Sitzungen, bei denen der Checkout erreicht wurde</th>\n",
       "      <th>Sitzungen, bei denen der Checkout abgeschlossen wurde</th>\n",
       "      <th>Sitzungen</th>\n",
       "    </tr>\n",
       "  </thead>\n",
       "  <tbody>\n",
       "    <tr>\n",
       "      <th>0</th>\n",
       "      <td>Germany</td>\n",
       "      <td>Nuremberg</td>\n",
       "      <td>2024-10-01</td>\n",
       "      <td>direct</td>\n",
       "      <td>https://www.whiskyquartier.de/pages/datenschutz</td>\n",
       "      <td>368.000000</td>\n",
       "      <td>5.000000</td>\n",
       "      <td>0</td>\n",
       "      <td>0</td>\n",
       "      <td>0</td>\n",
       "      <td>0</td>\n",
       "      <td>1</td>\n",
       "    </tr>\n",
       "    <tr>\n",
       "      <th>1</th>\n",
       "      <td>Germany</td>\n",
       "      <td>Munich</td>\n",
       "      <td>2024-10-01</td>\n",
       "      <td>direct</td>\n",
       "      <td>https://www.whiskyquartier.de/products/kavalan...</td>\n",
       "      <td>237.000000</td>\n",
       "      <td>7.000000</td>\n",
       "      <td>0</td>\n",
       "      <td>1</td>\n",
       "      <td>1</td>\n",
       "      <td>0</td>\n",
       "      <td>1</td>\n",
       "    </tr>\n",
       "    <tr>\n",
       "      <th>2</th>\n",
       "      <td>United Kingdom</td>\n",
       "      <td>London</td>\n",
       "      <td>2024-10-01</td>\n",
       "      <td>direct</td>\n",
       "      <td>https://www.whiskyquartier.de/password</td>\n",
       "      <td>0.000000</td>\n",
       "      <td>1.000000</td>\n",
       "      <td>1</td>\n",
       "      <td>0</td>\n",
       "      <td>0</td>\n",
       "      <td>0</td>\n",
       "      <td>1</td>\n",
       "    </tr>\n",
       "    <tr>\n",
       "      <th>3</th>\n",
       "      <td>Germany</td>\n",
       "      <td>Hausach</td>\n",
       "      <td>2024-10-01</td>\n",
       "      <td>direct</td>\n",
       "      <td>https://7bb991-55.myshopify.com/</td>\n",
       "      <td>0.000000</td>\n",
       "      <td>1.000000</td>\n",
       "      <td>1</td>\n",
       "      <td>0</td>\n",
       "      <td>0</td>\n",
       "      <td>0</td>\n",
       "      <td>1</td>\n",
       "    </tr>\n",
       "    <tr>\n",
       "      <th>4</th>\n",
       "      <td>Germany</td>\n",
       "      <td>Burgthann</td>\n",
       "      <td>2024-10-01</td>\n",
       "      <td>direct</td>\n",
       "      <td>https://7bb991-55.myshopify.com/</td>\n",
       "      <td>327.555556</td>\n",
       "      <td>1.888889</td>\n",
       "      <td>7</td>\n",
       "      <td>0</td>\n",
       "      <td>0</td>\n",
       "      <td>0</td>\n",
       "      <td>9</td>\n",
       "    </tr>\n",
       "  </tbody>\n",
       "</table>\n",
       "</div>"
      ],
      "text/plain": [
       "     Sitzungsland Sitzungsort       Monat Empfehlungsplattform  \\\n",
       "0         Germany   Nuremberg  2024-10-01               direct   \n",
       "1         Germany      Munich  2024-10-01               direct   \n",
       "2  United Kingdom      London  2024-10-01               direct   \n",
       "3         Germany     Hausach  2024-10-01               direct   \n",
       "4         Germany   Burgthann  2024-10-01               direct   \n",
       "\n",
       "                                    Landing-Page-URL  \\\n",
       "0    https://www.whiskyquartier.de/pages/datenschutz   \n",
       "1  https://www.whiskyquartier.de/products/kavalan...   \n",
       "2             https://www.whiskyquartier.de/password   \n",
       "3                   https://7bb991-55.myshopify.com/   \n",
       "4                   https://7bb991-55.myshopify.com/   \n",
       "\n",
       "   Durchschnittliche Sitzungsdauer  Seitenaufrufe pro Sitzung  Absprünge  \\\n",
       "0                       368.000000                   5.000000          0   \n",
       "1                       237.000000                   7.000000          0   \n",
       "2                         0.000000                   1.000000          1   \n",
       "3                         0.000000                   1.000000          1   \n",
       "4                       327.555556                   1.888889          7   \n",
       "\n",
       "   Sitzungen, in denen Artikel zum Warenkorb hinzugefügt wurden  \\\n",
       "0                                                  0              \n",
       "1                                                  1              \n",
       "2                                                  0              \n",
       "3                                                  0              \n",
       "4                                                  0              \n",
       "\n",
       "   Sitzungen, bei denen der Checkout erreicht wurde  \\\n",
       "0                                                 0   \n",
       "1                                                 1   \n",
       "2                                                 0   \n",
       "3                                                 0   \n",
       "4                                                 0   \n",
       "\n",
       "   Sitzungen, bei denen der Checkout abgeschlossen wurde  Sitzungen  \n",
       "0                                                  0              1  \n",
       "1                                                  0              1  \n",
       "2                                                  0              1  \n",
       "3                                                  0              1  \n",
       "4                                                  0              9  "
      ]
     },
     "execution_count": 40,
     "metadata": {},
     "output_type": "execute_result"
    }
   ],
   "source": [
    "sitzungsv.head()"
   ]
  },
  {
   "cell_type": "markdown",
   "id": "26b29f6b",
   "metadata": {},
   "source": []
  }
 ],
 "metadata": {
  "kernelspec": {
   "display_name": "Python 3",
   "language": "python",
   "name": "python3"
  },
  "language_info": {
   "codemirror_mode": {
    "name": "ipython",
    "version": 3
   },
   "file_extension": ".py",
   "mimetype": "text/x-python",
   "name": "python",
   "nbconvert_exporter": "python",
   "pygments_lexer": "ipython3",
   "version": "3.13.2"
  }
 },
 "nbformat": 4,
 "nbformat_minor": 5
}
